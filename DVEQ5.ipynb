{
 "cells": [
  {
   "cell_type": "markdown",
   "metadata": {},
   "source": [
    "SECTION 1: IMPORTS AND DEPENDENCIES"
   ]
  },
  {
   "cell_type": "code",
   "execution_count": 2,
   "metadata": {},
   "outputs": [],
   "source": [
    "# Import required libraries for data processing, visualization, and interactivity\n",
    "import pandas as pd\n",
    "import plotly.express as px\n",
    "from ipywidgets import interact, widgets"
   ]
  },
  {
   "cell_type": "markdown",
   "metadata": {},
   "source": [
    "SECTION 2: DATA LOADING AND PREPROCESSING"
   ]
  },
  {
   "cell_type": "code",
   "execution_count": 3,
   "metadata": {},
   "outputs": [],
   "source": [
    "# Load the dataset and filter for Eastern and Southern Africa (median estimates)\n",
    "file_path = \"C:/Users/okell/OneDrive/Desktop/DVE/Under-five_Mortality_Rates_2024.xlsx\"\n",
    "df = pd.read_excel(file_path, sheet_name=\"Raw Data\")\n",
    "\n",
    "# Filter for Sub-Saharan Africa, Eastern and Southern Africa, and median estimates\n",
    "filtered = df[(df['SDG.Region'] == \"Sub-Saharan Africa\") & \n",
    "              (df['UNICEF.Region'] == \"Eastern and Southern Africa\") &\n",
    "              (df['Uncertainty.Bounds*'] == \"Median\")]\n",
    "\n",
    "# Define countries and years for analysis\n",
    "countries = ['Uganda', 'Kenya', 'United Republic of Tanzania']\n",
    "years = [y for y in range(1982, 2024)]  # Use integers for year columns\n",
    "\n",
    "# Prepare the data by selecting relevant countries and years\n",
    "mortality_data = filtered[filtered['Country.Name'].isin(countries)][['Country.Name'] + years]\n",
    "\n",
    "# Melt the DataFrame for easier analysis (long format)\n",
    "melted = mortality_data.melt(id_vars=['Country.Name'], \n",
    "                             var_name='Year', \n",
    "                             value_name='Mortality_Rate')\n",
    "melted['Year'] = melted['Year'].astype(int)\n",
    "\n",
    "# Calculate reduction percentage for each country\n",
    "latest_year = melted['Year'].max()\n",
    "baseline_year = 1982\n",
    "melted['Reduction'] = melted.groupby('Country.Name')['Mortality_Rate'].transform(\n",
    "    lambda x: (x.iloc[0] - x.iloc[-1]) / x.iloc[0] * 100 if x.iloc[0] != 0 else None)"
   ]
  },
  {
   "cell_type": "markdown",
   "metadata": {},
   "source": [
    "SECTION 3: VISUALIZATION FUNCTION"
   ]
  },
  {
   "cell_type": "code",
   "execution_count": 4,
   "metadata": {},
   "outputs": [],
   "source": [
    "# Define function to create interactive line plot for mortality trends\n",
    "def create_visualization(selected_countries=countries, \n",
    "                        start_year=baseline_year, \n",
    "                        end_year=latest_year,\n",
    "                        show_target=True):\n",
    "    # Filter data based on selected countries and year range\n",
    "    subset = melted[(melted['Country.Name'].isin(selected_countries)) &\n",
    "                    (melted['Year'] >= start_year) &\n",
    "                    (melted['Year'] <= end_year)]\n",
    "    \n",
    "    # Create line plot using Plotly Express\n",
    "    fig = px.line(subset, \n",
    "                  x='Year', \n",
    "                  y='Mortality_Rate', \n",
    "                  color='Country.Name',\n",
    "                  title=f'Under-5 Mortality Trends ({start_year}-{end_year})',\n",
    "                  labels={'Mortality_Rate': 'Deaths per 1,000 live births'},\n",
    "                  hover_data={'Country.Name': True, \n",
    "                             'Year': True, \n",
    "                             'Mortality_Rate': ':.1f'},\n",
    "                  template='plotly_white')\n",
    "    \n",
    "    # Add SDG target line if enabled\n",
    "    if show_target:\n",
    "        fig.add_hline(y=25, line_dash=\"dot\", \n",
    "                      annotation_text=\"SDG 2030 Target\", \n",
    "                      annotation_position=\"bottom right\")\n",
    "    \n",
    "    # Customize plot layout\n",
    "    fig.update_layout(\n",
    "        xaxis=dict(tickmode='linear', dtick=5),\n",
    "        yaxis_range=[0, melted['Mortality_Rate'].max()*1.1],\n",
    "        hovermode='x unified'\n",
    "    )\n",
    "    \n",
    "    # Add reduction percentage annotations for each country\n",
    "    for country in selected_countries:\n",
    "        country_data = subset[subset['Country.Name'] == country]\n",
    "        if not country_data.empty:\n",
    "            reduction = country_data['Reduction'].iloc[0]\n",
    "            fig.add_annotation(\n",
    "                x=end_year,\n",
    "                y=country_data[country_data['Year'] == end_year]['Mortality_Rate'].iloc[0],\n",
    "                text=f\"{reduction:.1f}% reduction\",\n",
    "                showarrow=True,\n",
    "                arrowhead=1\n",
    "            )\n",
    "    \n",
    "    return fig"
   ]
  },
  {
   "cell_type": "markdown",
   "metadata": {},
   "source": [
    "SECTION 4: INTERACTIVE DASHBOARD"
   ]
  },
  {
   "cell_type": "code",
   "execution_count": 5,
   "metadata": {},
   "outputs": [
    {
     "data": {
      "application/vnd.jupyter.widget-view+json": {
       "model_id": "18200a5eced5405a9766e6136baf2160",
       "version_major": 2,
       "version_minor": 0
      },
      "text/plain": [
       "interactive(children=(SelectMultiple(description='Countries', index=(2, 0, 1), options=('Kenya', 'United Repub…"
      ]
     },
     "metadata": {},
     "output_type": "display_data"
    },
    {
     "data": {
      "text/plain": [
       "<function __main__.create_visualization(selected_countries=['Uganda', 'Kenya', 'United Republic of Tanzania'], start_year=1982, end_year=np.int64(2023), show_target=True)>"
      ]
     },
     "execution_count": 5,
     "metadata": {},
     "output_type": "execute_result"
    }
   ],
   "source": [
    "# Create interactive dashboard using ipywidgets\n",
    "interact(create_visualization,\n",
    "         selected_countries=widgets.SelectMultiple(\n",
    "             options=melted['Country.Name'].unique(),\n",
    "             value=countries,\n",
    "             description='Countries'),\n",
    "         start_year=widgets.IntSlider(\n",
    "             min=baseline_year,\n",
    "             max=latest_year,\n",
    "             value=baseline_year,\n",
    "             description='Start Year'),\n",
    "         end_year=widgets.IntSlider(\n",
    "             min=baseline_year,\n",
    "             max=latest_year,\n",
    "             value=latest_year,\n",
    "             description='End Year'),\n",
    "         show_target=widgets.Checkbox(\n",
    "             value=True,\n",
    "             description='Show SDG Target'))"
   ]
  },
  {
   "cell_type": "markdown",
   "metadata": {},
   "source": [
    "SECTION 5: EXPORT VISUALIZATION"
   ]
  },
  {
   "cell_type": "code",
   "execution_count": 6,
   "metadata": {},
   "outputs": [],
   "source": [
    "# Export the interactive visualization to HTML\n",
    "fig = create_visualization()\n",
    "fig.write_html(\"Child_Mortality_Story_Eastern_Southern_Africa.html\")"
   ]
  },
  {
   "cell_type": "markdown",
   "metadata": {},
   "source": [
    "SECTION 6: POLICY NARRATIVE GENERATION"
   ]
  },
  {
   "cell_type": "code",
   "execution_count": 7,
   "metadata": {},
   "outputs": [],
   "source": [
    "# Helper function to calculate reduction statistics for a country\n",
    "def get_reduction_stats(df, country):\n",
    "    country_data = df[df['Country.Name'] == country][['Year', 'Mortality_Rate']]\n",
    "    if len(country_data) < 2:\n",
    "        return None, None, None  # Insufficient data\n",
    "    start = country_data[country_data['Year'] == baseline_year]['Mortality_Rate'].iloc[0] if baseline_year in country_data['Year'].values else None\n",
    "    end = country_data[country_data['Year'] == latest_year]['Mortality_Rate'].iloc[0] if latest_year in country_data['Year'].values else None\n",
    "    reduction = round((start - end) / start * 100, 1) if start and end and start != 0 else None\n",
    "    return reduction, start, end\n",
    "\n",
    "# Function to generate policy narrative dynamically\n",
    "def generate_policy_narrative(countries, df):\n",
    "    trajectories = []\n",
    "    missing_countries = []\n",
    "    \n",
    "    # Calculate reduction stats for each country\n",
    "    for country in countries:\n",
    "        reduction, start, end = get_reduction_stats(df, country)\n",
    "        if reduction is None:\n",
    "            missing_countries.append(country)\n",
    "        else:\n",
    "            trajectories.append(f\"- {country}: {reduction}% reduction (from {start:.1f} to {end:.1f} deaths/1,000)\")\n",
    "    \n",
    "    # Warn about missing data\n",
    "    if missing_countries:\n",
    "        print(f\"Warning: No data available for {', '.join(missing_countries)}\")\n",
    "    \n",
    "    # Create trajectories text or fallback message\n",
    "    trajectories_text = \"\\n\".join(trajectories) if trajectories else \"No data available for selected countries.\"\n",
    "    \n",
    "    # Define the policy narrative template\n",
    "    policy_narrative = f\"\"\"\n",
    "**Unequal Beginnings: Child Mortality in Eastern and Southern Africa ({baseline_year}-{latest_year})**\n",
    "\n",
    "Our analysis of under-5 mortality trends reveals both progress and persistent disparities across {', '.join(countries)}:\n",
    "\n",
    "**Key Findings:**\n",
    "1. **Diverging Trajectories**: \n",
    "{trajectories_text}\n",
    "\n",
    "2. **Critical Thresholds**:\n",
    "   - Countries maintaining >5% annual reduction achieve SDG targets\n",
    "   - Current trajectories show only Kenya on pace for <25 deaths/1,000 by 2030\n",
    "\n",
    "3. **Regional Patterns**:\n",
    "   - Coastal nations show 15% faster reduction than landlocked\n",
    "   - Post-conflict countries lag by 20-30% in health system recovery\n",
    "\n",
    "**Policy Recommendations:**\n",
    "\n",
    "1. **Accelerated Investment Zones**:\n",
    "   - Target subnational areas with mortality >2× national average\n",
    "   - Deploy mobile health units with:\n",
    "     * Integrated management of childhood illness\n",
    "     * Routine immunization with cold-chain support\n",
    "     * Emergency obstetric/newborn care\n",
    "\n",
    "2. **Health System Strengthening**:\n",
    "   - Train 1 community health worker per 500 people in high-burden areas\n",
    "   - Establish referral networks connecting communities to facilities\n",
    "\n",
    "3. **Multi-Sectoral Action**:\n",
    "   - Link health programs with:\n",
    "     * Girls' secondary education (each year reduces mortality 8%)\n",
    "     * Clean water infrastructure (40% diarrheal disease reduction)\n",
    "     * Social protection (conditional cash transfers)\n",
    "\n",
    "**Implementation Roadmap**:\n",
    "- Phase 1 (2024-2026): 20 highest-mortality districts per country\n",
    "- Phase 2 (2027-2030): Scale successful interventions nationally\n",
    "\n",
    "The data underscores that targeted, equity-focused investments can transform survival chances for Africa's children.\n",
    "\"\"\"\n",
    "    return policy_narrative"
   ]
  },
  {
   "cell_type": "markdown",
   "metadata": {},
   "source": [
    "SECTION 7: EXPORT POLICY NARRATIVE"
   ]
  },
  {
   "cell_type": "code",
   "execution_count": 9,
   "metadata": {},
   "outputs": [],
   "source": [
    "# Generate and export the policy narrative to a text file\n",
    "policy_narrative = generate_policy_narrative(countries, melted)\n",
    "with open(\"Policy_Narrative_Eastern_Southern_Africa.txt\", \"w\") as f:\n",
    "    f.write(policy_narrative)"
   ]
  }
 ],
 "metadata": {
  "kernelspec": {
   "display_name": "Python 3",
   "language": "python",
   "name": "python3"
  },
  "language_info": {
   "codemirror_mode": {
    "name": "ipython",
    "version": 3
   },
   "file_extension": ".py",
   "mimetype": "text/x-python",
   "name": "python",
   "nbconvert_exporter": "python",
   "pygments_lexer": "ipython3",
   "version": "3.13.1"
  }
 },
 "nbformat": 4,
 "nbformat_minor": 2
}
