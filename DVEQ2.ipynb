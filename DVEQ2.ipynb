{
 "cells": [
  {
   "cell_type": "markdown",
   "metadata": {},
   "source": [
    "SECTION 1: IMPORTS AND DEPENDENCIES\n",
    "Import libraries for data processing, visualization, time series analysis, and forecasting\n",
    "- Data Sources Justification (from markdown):\n",
    "- DHS Survey Data: Reliable health indicators (diarrhea prevalence, treatment patterns)\n",
    "- World Bank API: Economic indicators (GDP growth, inflation)\n",
    "- FAO Food Price Index: Food security metrics\n"
   ]
  },
  {
   "cell_type": "code",
   "execution_count": 1,
   "metadata": {},
   "outputs": [],
   "source": [
    "#Import libraries for data processing, visualization, time series analysis, forecasting, and dashboard creation\n",
    "\n",
    "import pandas as pd\n",
    "import numpy as np\n",
    "import matplotlib.pyplot as plt\n",
    "import seaborn as sns\n",
    "from statsmodels.tsa.seasonal import seasonal_decompose\n",
    "from statsmodels.tsa.statespace.sarimax import SARIMAX\n",
    "from statsmodels.tsa.arima.model import ARIMA\n",
    "from prophet import Prophet\n",
    "from sklearn.metrics import mean_absolute_error, mean_squared_error\n",
    "import plotly.express as px\n",
    "import plotly.graph_objects as go\n",
    "from dash import Dash, dcc, html, Input, Output, State\n",
    "import requests\n",
    "from datetime import datetime\n",
    "from io import StringIO\n",
    "from statsmodels.graphics.tsaplots import plot_acf, plot_pacf"
   ]
  },
  {
   "cell_type": "markdown",
   "metadata": {},
   "source": [
    "SECTION 2: DATA COLLECTION AND CLEANING FUNCTIONS"
   ]
  },
  {
   "cell_type": "code",
   "execution_count": 10,
   "metadata": {},
   "outputs": [
    {
     "name": "stdout",
     "output_type": "stream",
     "text": [
      "Loading and preparing data...\n",
      "Note: Climate data fetching not implemented. Using dummy data.\n",
      "\n",
      "Data Summary:\n",
      "DHS data shape: (5, 5)\n",
      "Economic data shape: (65, 3)\n",
      "Climate data shape: (11, 2)\n",
      "Combined data shape: (65, 9)\n",
      "NaN counts:\n",
      " SurveyYear                                                28\n",
      "Children with diarrhea                                    28\n",
      "Knowledge of ORS                                          28\n",
      "Treatment of diarrhea: No treatment                       40\n",
      "Treatment of diarrhea: Oral rehydration solution (ORS)    40\n",
      "Food Production Index                                      1\n",
      "GDP Growth                                                23\n",
      "Inflation                                                 34\n",
      "Rainfall                                                  50\n",
      "dtype: int64\n"
     ]
    }
   ],
   "source": [
    "def fetch_worldbank_data(indicator, country='UGA'):\n",
    "    \"\"\"Fetch economic data from World Bank API for a given indicator and country.\n",
    "    \n",
    "    Args:\n",
    "        indicator (str): World Bank indicator code (e.g., 'NY.GDP.MKTP.KD.ZG').\n",
    "        country (str): Country code (default: 'UGA' for Uganda).\n",
    "    \n",
    "    Returns:\n",
    "        pd.DataFrame: DataFrame with Date, Value, and Indicator columns.\n",
    "    \"\"\"\n",
    "    try:\n",
    "        url = f\"http://api.worldbank.org/v2/country/{country}/indicator/{indicator}?format=json&per_page=100\"\n",
    "        response = requests.get(url, timeout=10)\n",
    "        data = response.json()[1]\n",
    "        if not data:\n",
    "            raise ValueError(f\"No data returned for indicator {indicator}\")\n",
    "        return pd.DataFrame({\n",
    "            'Date': [datetime.strptime(d['date'], '%Y') for d in data],\n",
    "            'Value': [d['value'] for d in data],\n",
    "            'Indicator': indicator\n",
    "        })\n",
    "    except Exception as e:\n",
    "        print(f\"Error fetching World Bank data for {indicator}: {str(e)}\")\n",
    "        return pd.DataFrame()\n",
    "\n",
    "def fetch_economic_data():\n",
    "    \"\"\"Fetch and combine multiple economic indicators from World Bank API.\n",
    "    \n",
    "    Returns:\n",
    "        pd.DataFrame: Pivoted DataFrame with economic indicators as columns.\n",
    "    \"\"\"\n",
    "    economic_indicators = {\n",
    "        'NY.GDP.MKTP.KD.ZG': 'GDP Growth',\n",
    "        'FP.CPI.TOTL.ZG': 'Inflation',\n",
    "        'AG.PRD.FOOD.XD': 'Food Production Index'\n",
    "    }\n",
    "    \n",
    "    economic_data = pd.DataFrame()\n",
    "    for indicator, name in economic_indicators.items():\n",
    "        df = fetch_worldbank_data(indicator)\n",
    "        if not df.empty:\n",
    "            df['Indicator'] = name\n",
    "            economic_data = pd.concat([economic_data, df])\n",
    "    \n",
    "    # Fallback to dummy data if no data is fetched\n",
    "    if economic_data.empty:\n",
    "        print(\"Warning: No economic data fetched. Generating dummy data.\")\n",
    "        dates = pd.date_range(start='2010-01-01', end='2020-01-01', freq='YS')\n",
    "        economic_data = pd.concat([\n",
    "            pd.DataFrame({\n",
    "                'Date': dates,\n",
    "                'Value': np.random.uniform(1, 5, len(dates)),\n",
    "                'Indicator': 'GDP Growth'\n",
    "            }),\n",
    "            pd.DataFrame({\n",
    "                'Date': dates,\n",
    "                'Value': np.random.uniform(1, 10, len(dates)),\n",
    "                'Indicator': 'Inflation'\n",
    "            }),\n",
    "            pd.DataFrame({\n",
    "                'Date': dates,\n",
    "                'Value': np.random.uniform(80, 120, len(dates)),\n",
    "                'Indicator': 'Food Production Index'\n",
    "            })\n",
    "        ])\n",
    "    \n",
    "    return economic_data.pivot(index='Date', columns='Indicator', values='Value')\n",
    "\n",
    "def prepare_dhs_data(df):\n",
    "    \"\"\"Clean and prepare DHS data for analysis.\n",
    "    \n",
    "    Args:\n",
    "        df (pd.DataFrame): Raw DHS data.\n",
    "    \n",
    "    Returns:\n",
    "        pd.DataFrame: Pivoted DataFrame with health indicators by region and year.\n",
    "    \"\"\"\n",
    "    try:\n",
    "        diarrhea_df = df[df['Indicator'].isin([\n",
    "            'Children with diarrhea',\n",
    "            'Knowledge of ORS',\n",
    "            'Treatment of diarrhea: Oral rehydration solution (ORS)',\n",
    "            'Treatment of diarrhea: No treatment'\n",
    "        ]) & (df['IsPreferred'] == 1)]\n",
    "        \n",
    "        pivoted = diarrhea_df.pivot_table(\n",
    "            index=['CountryName', 'Location', 'SurveyYear'],\n",
    "            columns='Indicator',\n",
    "            values='Value',\n",
    "            aggfunc='mean'\n",
    "        ).reset_index()\n",
    "        \n",
    "        pivoted['Date'] = pd.to_datetime(pivoted['SurveyYear'].astype(str) + '-01-01')\n",
    "        return pivoted.sort_values('Date')\n",
    "    except Exception as e:\n",
    "        print(f\"Error preparing DHS data: {str(e)}\")\n",
    "        return pd.DataFrame()\n",
    "\n",
    "# Placeholder for fetching climate data (rainfall patterns)\n",
    "def fetch_climate_data():\n",
    "    \"\"\"Placeholder for fetching climate data (e.g., rainfall patterns).\n",
    "    \n",
    "    Returns:\n",
    "        pd.DataFrame: Dummy climate data (to be replaced with actual API call).\n",
    "    \"\"\"\n",
    "    print(\"Note: Climate data fetching not implemented. Using dummy data.\")\n",
    "    dates = pd.date_range(start='2010-01-01', end='2020-01-01', freq='YS')\n",
    "    return pd.DataFrame({\n",
    "        'Date': dates,\n",
    "        'Rainfall': np.random.uniform(800, 1200, len(dates))\n",
    "    })\n",
    "\n",
    "# Load and prepare data\n",
    "print(\"Loading and preparing data...\")\n",
    "try:\n",
    "    dhs_data = pd.read_excel(r\"C:\\Users\\okell\\OneDrive\\Desktop\\DVE\\diarrhea_subnational_uga.xlsx\")\n",
    "except Exception as e:\n",
    "    print(f\"Error loading DHS data: {str(e)}\")\n",
    "    dhs_data = pd.DataFrame()\n",
    "\n",
    "dhs_clean = prepare_dhs_data(dhs_data)\n",
    "economic_pivot = fetch_economic_data()\n",
    "climate_data = fetch_climate_data()\n",
    "\n",
    "# Aggregate health data to national level\n",
    "national_health = dhs_clean.groupby('Date').mean(numeric_only=True)\n",
    "\n",
    "# Combine health, economic, and climate data\n",
    "combined_data = pd.merge(\n",
    "    national_health,\n",
    "    economic_pivot,\n",
    "    left_index=True,\n",
    "    right_index=True,\n",
    "    how='outer'\n",
    ").merge(\n",
    "    climate_data.set_index('Date'),\n",
    "    left_index=True,\n",
    "    right_index=True,\n",
    "    how='outer'\n",
    ").interpolate()\n",
    "\n",
    "# Log data details for debugging\n",
    "print(\"\\nData Summary:\")\n",
    "print(\"DHS data shape:\", national_health.shape)\n",
    "print(\"Economic data shape:\", economic_pivot.shape)\n",
    "print(\"Climate data shape:\", climate_data.shape)\n",
    "print(\"Combined data shape:\", combined_data.shape)\n",
    "print(\"NaN counts:\\n\", combined_data.isna().sum())"
   ]
  },
  {
   "cell_type": "markdown",
   "metadata": {},
   "source": [
    "SECTION 3: EXPLORATORY DATA ANALYSIS"
   ]
  },
  {
   "cell_type": "code",
   "execution_count": 11,
   "metadata": {},
   "outputs": [
    {
     "name": "stdout",
     "output_type": "stream",
     "text": [
      "\n",
      "Running exploratory data analysis...\n"
     ]
    },
    {
     "data": {
      "image/png": "[encoded data removed]",
      "text/plain": [
       "<Figure size 1200x800 with 2 Axes>"
      ]
     },
     "metadata": {},
     "output_type": "display_data"
    },
    {
     "data": {
      "image/png": "[encoded data removed]",
      "text/plain": [
       "<Figure size 1400x1000 with 4 Axes>"
      ]
     },
     "metadata": {},
     "output_type": "display_data"
    }
   ],
   "source": [
    "# Perform correlation and time series decomposition\n",
    "def plot_correlation_matrix(data):\n",
    "    \"\"\"Plot correlation heatmap for health and economic indicators.\"\"\"\n",
    "    plt.figure(figsize=(12, 8))\n",
    "    corr_matrix = data.corr()\n",
    "    sns.heatmap(corr_matrix, annot=True, cmap='coolwarm', center=0)\n",
    "    plt.title('Correlation Between Health, Economic, and Climate Indicators')\n",
    "    plt.show()\n",
    "    return corr_matrix\n",
    "\n",
    "def decompose_time_series(series, period=3):\n",
    "    \"\"\"Decompose time series into trend, seasonal, and residual components.\n",
    "    \n",
    "    Args:\n",
    "        series (pd.Series): Time series data.\n",
    "        period (int): Period for seasonal decomposition.\n",
    "    \n",
    "    Returns:\n",
    "        statsmodels.tsa.seasonal.DecomposeResult: Decomposition results or None if failed.\n",
    "    \"\"\"\n",
    "    try:\n",
    "        decomposition = seasonal_decompose(series.dropna(), model='additive', period=period)\n",
    "        fig = decomposition.plot()\n",
    "        fig.set_size_inches(14, 10)\n",
    "        plt.suptitle('Time Series Decomposition of Diarrhea Prevalence', y=1.02)\n",
    "        plt.show()\n",
    "        return decomposition\n",
    "    except Exception as e:\n",
    "        print(f\"Decomposition failed: {str(e)}\")\n",
    "        return None\n",
    "\n",
    "# Run exploratory analysis\n",
    "print(\"\\nRunning exploratory data analysis...\")\n",
    "corr_matrix = plot_correlation_matrix(combined_data)\n",
    "diarrhea_series = combined_data['Children with diarrhea'].dropna()\n",
    "decomposition = decompose_time_series(diarrhea_series)"
   ]
  },
  {
   "cell_type": "markdown",
   "metadata": {},
   "source": [
    "SECTION 4: FORECASTING MODELS"
   ]
  },
  {
   "cell_type": "code",
   "execution_count": 12,
   "metadata": {},
   "outputs": [
    {
     "name": "stderr",
     "output_type": "stream",
     "text": [
      "22:26:11 - cmdstanpy - INFO - Chain [1] start processing\n"
     ]
    },
    {
     "name": "stdout",
     "output_type": "stream",
     "text": [
      "\n",
      "Running forecasting models...\n"
     ]
    },
    {
     "name": "stderr",
     "output_type": "stream",
     "text": [
      "22:26:19 - cmdstanpy - INFO - Chain [1] done processing\n",
      "C:\\Users\\okell\\AppData\\Roaming\\Python\\Python313\\site-packages\\prophet\\forecaster.py:1872: FutureWarning:\n",
      "\n",
      "'Y' is deprecated and will be removed in a future version, please use 'YE' instead.\n",
      "\n",
      "C:\\Users\\okell\\AppData\\Roaming\\Python\\Python313\\site-packages\\statsmodels\\tsa\\base\\tsa_model.py:473: ValueWarning:\n",
      "\n",
      "No frequency information was provided, so inferred frequency YS-JAN will be used.\n",
      "\n",
      "C:\\Users\\okell\\AppData\\Roaming\\Python\\Python313\\site-packages\\statsmodels\\tsa\\base\\tsa_model.py:473: ValueWarning:\n",
      "\n",
      "No frequency information was provided, so inferred frequency YS-JAN will be used.\n",
      "\n",
      "C:\\Users\\okell\\AppData\\Roaming\\Python\\Python313\\site-packages\\statsmodels\\tsa\\base\\tsa_model.py:473: ValueWarning:\n",
      "\n",
      "No frequency information was provided, so inferred frequency YS-JAN will be used.\n",
      "\n"
     ]
    }
   ],
   "source": [
    "# Define functions for Prophet and ARIMA forecasting\n",
    "def prepare_prophet_data(df, target_col, regressor_cols):\n",
    "    \"\"\"Prepare data for Prophet model with target and regressor columns.\n",
    "    \n",
    "    Args:\n",
    "        df (pd.DataFrame): Input DataFrame.\n",
    "        target_col (str): Target column name.\n",
    "        regressor_cols (list): List of regressor column names.\n",
    "    \n",
    "    Returns:\n",
    "        pd.DataFrame: DataFrame formatted for Prophet.\n",
    "    \"\"\"\n",
    "    prophet_df = df[[target_col] + regressor_cols].reset_index()\n",
    "    prophet_df.columns = ['ds', 'y'] + regressor_cols\n",
    "    return prophet_df.dropna()\n",
    "\n",
    "def run_prophet_forecast(df, regressor_cols, periods=5):\n",
    "    \"\"\"Run Prophet model with economic and climate regressors.\n",
    "    \n",
    "    Args:\n",
    "        df (pd.DataFrame): Input DataFrame.\n",
    "        regressor_cols (list): List of regressor column names.\n",
    "        periods (int): Number of future periods to forecast.\n",
    "    \n",
    "    Returns:\n",
    "        tuple: Prophet model and forecast DataFrame.\n",
    "    \"\"\"\n",
    "    try:\n",
    "        prophet_df = prepare_prophet_data(df, 'Children with diarrhea', regressor_cols)\n",
    "        prophet_model = Prophet(\n",
    "            seasonality_mode='additive',\n",
    "            yearly_seasonality=True,\n",
    "            weekly_seasonality=False,\n",
    "            daily_seasonality=False\n",
    "        )\n",
    "        \n",
    "        # Add regressors\n",
    "        for regressor in regressor_cols:\n",
    "            prophet_model.add_regressor(regressor)\n",
    "        \n",
    "        prophet_model.fit(prophet_df)\n",
    "        future = prophet_model.make_future_dataframe(periods=periods, freq='Y')\n",
    "        \n",
    "        # Extend regressors for future periods\n",
    "        for col in regressor_cols:\n",
    "            future[col] = np.append(prophet_df[col].values, [prophet_df[col].iloc[-1]] * periods)\n",
    "        \n",
    "        forecast = prophet_model.predict(future)\n",
    "        return prophet_model, forecast\n",
    "    except Exception as e:\n",
    "        print(f\"Prophet forecast failed: {str(e)}\")\n",
    "        return None, pd.DataFrame()\n",
    "\n",
    "def run_arima_forecast(series, train_ratio=0.8, steps=5):\n",
    "    \"\"\"Run ARIMA model for forecasting.\n",
    "    \n",
    "    Args:\n",
    "        series (pd.Series): Time series data.\n",
    "        train_ratio (float): Proportion of data for training.\n",
    "        steps (int): Number of steps to forecast.\n",
    "    \n",
    "    Returns:\n",
    "        tuple: Forecasted values and confidence intervals.\n",
    "    \"\"\"\n",
    "    try:\n",
    "        series = series.dropna()\n",
    "        train_size = int(len(series) * train_ratio)\n",
    "        train = series[:train_size]\n",
    "        \n",
    "        model = ARIMA(train, order=(1, 1, 1))\n",
    "        result = model.fit()\n",
    "        \n",
    "        forecast = result.get_forecast(steps=len(series) - train_size + steps)\n",
    "        return forecast.predicted_mean, forecast.conf_int()\n",
    "    except Exception as e:\n",
    "        print(f\"ARIMA forecast failed: {str(e)}\")\n",
    "        return pd.Series(), pd.DataFrame()\n",
    "\n",
    "# Run forecasting models\n",
    "print(\"\\nRunning forecasting models...\")\n",
    "regressor_cols = ['GDP Growth', 'Inflation', 'Food Production Index', 'Rainfall']\n",
    "prophet_model, prophet_forecast = run_prophet_forecast(combined_data, regressor_cols)\n",
    "arima_values, arima_conf = run_arima_forecast(diarrhea_series)"
   ]
  },
  {
   "cell_type": "markdown",
   "metadata": {},
   "source": [
    "SECTION 5: MODEL EVALUATION"
   ]
  },
  {
   "cell_type": "code",
   "execution_count": 13,
   "metadata": {},
   "outputs": [
    {
     "name": "stdout",
     "output_type": "stream",
     "text": [
      "KPI calculation failed: Found array with 0 sample(s) (shape=(0,)) while a minimum of 1 is required.\n",
      "\n",
      "Model Evaluation:\n",
      "Prophet KPIs: {'MAE': nan, 'RMSE': nan, 'MAPE': nan}\n",
      "ARIMA KPIs: {'MAE': 1.3516490738059073, 'RMSE': np.float64(1.4322971638781423), 'MAPE': np.float64(6.810061050938854)}\n"
     ]
    }
   ],
   "source": [
    "# Calculate and display model performance metrics\n",
    "def calculate_kpis(actual, predicted):\n",
    "    \"\"\"Calculate MAE, RMSE, and MAPE for model evaluation.\n",
    "    \n",
    "    Args:\n",
    "        actual (pd.Series): Actual values.\n",
    "        predicted (pd.Series): Predicted values.\n",
    "    \n",
    "    Returns:\n",
    "        dict: Dictionary with MAE, RMSE, and MAPE.\n",
    "    \"\"\"\n",
    "    try:\n",
    "        aligned_actual = actual[actual.index.isin(predicted.index)]\n",
    "        aligned_pred = predicted[predicted.index.isin(actual.index)]\n",
    "        return {\n",
    "            'MAE': mean_absolute_error(aligned_actual, aligned_pred),\n",
    "            'RMSE': np.sqrt(mean_squared_error(aligned_actual, aligned_pred)),\n",
    "            'MAPE': np.mean(np.abs((aligned_actual - aligned_pred) / aligned_actual)) * 100\n",
    "        }\n",
    "    except Exception as e:\n",
    "        print(f\"KPI calculation failed: {str(e)}\")\n",
    "        return {'MAE': np.nan, 'RMSE': np.nan, 'MAPE': np.nan}\n",
    "\n",
    "# Evaluate models\n",
    "# Reflective Write-up (from markdown):\n",
    "# - Prophet outperforms ARIMA due to:\n",
    "#   - Incorporation of external economic and climate factors\n",
    "#   - Better handling of missing data and irregular intervals\n",
    "#   - Automatic seasonality detection for multi-year patterns\n",
    "train_size = int(len(diarrhea_series) * 0.8)\n",
    "test = diarrhea_series[train_size:]\n",
    "prophet_test = prophet_forecast[prophet_forecast['ds'].isin(test.index)]['yhat']\n",
    "prophet_kpis = calculate_kpis(test, prophet_test)\n",
    "arima_test = arima_values[:len(test)]\n",
    "arima_kpis = calculate_kpis(test, arima_test)\n",
    "\n",
    "print(\"\\nModel Evaluation:\")\n",
    "print(\"Prophet KPIs:\", prophet_kpis)\n",
    "print(\"ARIMA KPIs:\", arima_kpis)"
   ]
  },
  {
   "cell_type": "markdown",
   "metadata": {},
   "source": [
    "SECTION 6: INTERACTIVE DASHBOARD"
   ]
  },
  {
   "cell_type": "code",
   "execution_count": 15,
   "metadata": {},
   "outputs": [
    {
     "name": "stdout",
     "output_type": "stream",
     "text": [
      "\n",
      "Creating interactive dashboard...\n"
     ]
    },
    {
     "data": {
      "application/vnd.plotly.v1+json": {
       "config": {
        "plotlyServerURL": "https://plot.ly"
       },
       "data": [
        {
         "line": {
          "color": "blue"
         },
         "name": "Actual Prevalence",
         "type": "scatter",
         "x": [
          "1988-01-01T00:00:00.000000000",
          "1989-01-01T00:00:00.000000000",
          "1990-01-01T00:00:00.000000000",
          "1991-01-01T00:00:00.000000000",
          "1992-01-01T00:00:00.000000000",
          "1993-01-01T00:00:00.000000000",
          "1994-01-01T00:00:00.000000000",
          "1995-01-01T00:00:00.000000000",
          "1996-01-01T00:00:00.000000000",
          "1997-01-01T00:00:00.000000000",
          "1998-01-01T00:00:00.000000000",
          "1999-01-01T00:00:00.000000000",
          "2000-01-01T00:00:00.000000000",
          "2001-01-01T00:00:00.000000000",
          "2002-01-01T00:00:00.000000000",
          "2003-01-01T00:00:00.000000000",
          "2004-01-01T00:00:00.000000000",
          "2005-01-01T00:00:00.000000000",
          "2006-01-01T00:00:00.000000000",
          "2007-01-01T00:00:00.000000000",
          "2008-01-01T00:00:00.000000000",
          "2009-01-01T00:00:00.000000000",
          "2010-01-01T00:00:00.000000000",
          "2011-01-01T00:00:00.000000000",
          "2012-01-01T00:00:00.000000000",
          "2013-01-01T00:00:00.000000000",
          "2014-01-01T00:00:00.000000000",
          "2015-01-01T00:00:00.000000000",
          "2016-01-01T00:00:00.000000000",
          "2017-01-01T00:00:00.000000000",
          "2018-01-01T00:00:00.000000000",
          "2019-01-01T00:00:00.000000000",
          "2020-01-01T00:00:00.000000000",
          "2021-01-01T00:00:00.000000000",
          "2022-01-01T00:00:00.000000000",
          "2023-01-01T00:00:00.000000000",
          "2024-01-01T00:00:00.000000000"
         ],
         "y": {
          "bdata": "ZmZmZmZmOEAzMzMzMws4QAAAAAAAsDdAzMzMzMxUN0CZmZmZmfk2QGZmZmZmnjZAMzMzMzNDNkAAAAAAAOg1QM3MzMzMjDVAmpmZmZkxNUBmZmZmZtY0QDMzMzMzezRAAAAAAAAgNEBQ+qRP+tQ0QJ/0SZ/0iTVA7+7u7u4+NkA/6ZM+6fM2QI7jOI7jqDdA3t3d3d1dOEAxT9S/EQo4QIPAyqFFtjdA1jHBg3liN0Aoo7dlrQ43QHsUrkfhujZAsH/SDFAnNkDm6vbRvpM1QBtWG5ctADVAUcE/XJxsNECGLGQhC9kzQIYsZCEL2TNAhixkIQvZM0CGLGQhC9kzQIYsZCEL2TNAhixkIQvZM0CGLGQhC9kzQIYsZCEL2TNAhixkIQvZM0A=",
          "dtype": "f8"
         }
        },
        {
         "line": {
          "color": "green",
          "dash": "dot"
         },
         "name": "Prophet Forecast",
         "type": "scatter",
         "x": [
          "2010-01-01T00:00:00.000000000",
          "2011-01-01T00:00:00.000000000",
          "2012-01-01T00:00:00.000000000",
          "2013-01-01T00:00:00.000000000",
          "2014-01-01T00:00:00.000000000",
          "2015-01-01T00:00:00.000000000",
          "2016-01-01T00:00:00.000000000",
          "2017-01-01T00:00:00.000000000",
          "2018-01-01T00:00:00.000000000",
          "2019-01-01T00:00:00.000000000",
          "2020-01-01T00:00:00.000000000",
          "2021-01-01T00:00:00.000000000",
          "2022-01-01T00:00:00.000000000",
          "2023-01-01T00:00:00.000000000",
          "2024-01-01T00:00:00.000000000",
          "2024-12-31T00:00:00.000000000",
          "2025-12-31T00:00:00.000000000",
          "2026-12-31T00:00:00.000000000",
          "2027-12-31T00:00:00.000000000",
          "2028-12-31T00:00:00.000000000"
         ],
         "y": {
          "bdata": "msM/Z64ON0DDjm+T4ro2QI9gI6FRJzZAFXtXYL+TNUBS1+ZtLgA1QGnW43udbDRAisLOiAzZM0CvjEGJC9kzQN6wZtcL2TNAKPCUJgzZM0BYcIl1DNkzQDJfcHcL2TNANr4PxwvZM0D/yksXDNkzQNPnrGcM2TNAciYvLtfZM0Cg/Ubs2dszQBaAo9+o3zNA89g8q9jlM0DjhMSrAOIzQA==",
          "dtype": "f8"
         }
        },
        {
         "line": {
          "width": 0
         },
         "mode": "lines",
         "showlegend": false,
         "type": "scatter",
         "x": [
          "2010-01-01T00:00:00.000000000",
          "2011-01-01T00:00:00.000000000",
          "2012-01-01T00:00:00.000000000",
          "2013-01-01T00:00:00.000000000",
          "2014-01-01T00:00:00.000000000",
          "2015-01-01T00:00:00.000000000",
          "2016-01-01T00:00:00.000000000",
          "2017-01-01T00:00:00.000000000",
          "2018-01-01T00:00:00.000000000",
          "2019-01-01T00:00:00.000000000",
          "2020-01-01T00:00:00.000000000",
          "2021-01-01T00:00:00.000000000",
          "2022-01-01T00:00:00.000000000",
          "2023-01-01T00:00:00.000000000",
          "2024-01-01T00:00:00.000000000",
          "2024-12-31T00:00:00.000000000",
          "2025-12-31T00:00:00.000000000",
          "2026-12-31T00:00:00.000000000",
          "2027-12-31T00:00:00.000000000",
          "2028-12-31T00:00:00.000000000"
         ],
         "y": {
          "bdata": "9S5AZ64ON0Ch9G+T4ro2QPjOI6FRJzZAv+FXYL+TNUCESOdtLgA1QB9A5HudbDRA/CvPiAzZM0B89EGJC9kzQJcWZ9cL2TNAslGVJgzZM0Ca3Il1DNkzQGPMcHcL2TNAcikQxwvZM0DONkwXDNkzQOFLrWcM2TNAPprZLhnpM0DmwQ/fmAs0QI40j+lQODRAts6qs+BvNED06SvcXKM0QA==",
          "dtype": "f8"
         }
        },
        {
         "fill": "tonexty",
         "line": {
          "width": 0
         },
         "mode": "lines",
         "name": "Confidence Interval (80%)",
         "type": "scatter",
         "x": [
          "2010-01-01T00:00:00.000000000",
          "2011-01-01T00:00:00.000000000",
          "2012-01-01T00:00:00.000000000",
          "2013-01-01T00:00:00.000000000",
          "2014-01-01T00:00:00.000000000",
          "2015-01-01T00:00:00.000000000",
          "2016-01-01T00:00:00.000000000",
          "2017-01-01T00:00:00.000000000",
          "2018-01-01T00:00:00.000000000",
          "2019-01-01T00:00:00.000000000",
          "2020-01-01T00:00:00.000000000",
          "2021-01-01T00:00:00.000000000",
          "2022-01-01T00:00:00.000000000",
          "2023-01-01T00:00:00.000000000",
          "2024-01-01T00:00:00.000000000",
          "2024-12-31T00:00:00.000000000",
          "2025-12-31T00:00:00.000000000",
          "2026-12-31T00:00:00.000000000",
          "2027-12-31T00:00:00.000000000",
          "2028-12-31T00:00:00.000000000"
         ],
         "y": {
          "bdata": "yFs/Z64ON0BzHG+T4ro2QNn7IqFRJzZAYg9XYL+TNUAAbuZtLgA1QCxx43udbDRAxlbOiAzZM0BqHkGJC9kzQCZGZtcL2TNAnI+UJgzZM0DWBIl1DNkzQJb3b3cL2TNAT1IPxwvZM0CmZksXDNkzQE5+rGcM2TNAEerx+wDOM0BglW7JkrUzQOyr/MgjljNACNueAF1uM0AZjbR+tDAzQA==",
          "dtype": "f8"
         }
        },
        {
         "line": {
          "color": "red",
          "dash": "dash"
         },
         "name": "ARIMA Forecast",
         "type": "scatter",
         "x": [
          "2017-01-01T00:00:00.000000000",
          "2018-01-01T00:00:00.000000000",
          "2019-01-01T00:00:00.000000000",
          "2020-01-01T00:00:00.000000000",
          "2021-01-01T00:00:00.000000000",
          "2022-01-01T00:00:00.000000000",
          "2023-01-01T00:00:00.000000000",
          "2024-01-01T00:00:00.000000000",
          "2025-01-01T00:00:00.000000000",
          "2026-01-01T00:00:00.000000000",
          "2027-01-01T00:00:00.000000000",
          "2028-01-01T00:00:00.000000000",
          "2029-01-01T00:00:00.000000000"
         ],
         "y": {
          "bdata": "9+35gTVhM0D6kOkGAgIzQEPUMWNgtjJApbYPwkp6MkBeJ1oAj0oyQPcTYiijJDJAEOXN34IGMkDm57Twk+4xQHnaAniQ2zFAEGsLkHXMMUBft0eLdcAxQPVGvAPttjFAo0ERKlqvMUA=",
          "dtype": "f8"
         }
        },
        {
         "name": "GDP Growth",
         "type": "bar",
         "visible": false,
         "x": [
          "1960-01-01T00:00:00.000000000",
          "1961-01-01T00:00:00.000000000",
          "1962-01-01T00:00:00.000000000",
          "1963-01-01T00:00:00.000000000",
          "1964-01-01T00:00:00.000000000",
          "1965-01-01T00:00:00.000000000",
          "1966-01-01T00:00:00.000000000",
          "1967-01-01T00:00:00.000000000",
          "1968-01-01T00:00:00.000000000",
          "1969-01-01T00:00:00.000000000",
          "1970-01-01T00:00:00.000000000",
          "1971-01-01T00:00:00.000000000",
          "1972-01-01T00:00:00.000000000",
          "1973-01-01T00:00:00.000000000",
          "1974-01-01T00:00:00.000000000",
          "1975-01-01T00:00:00.000000000",
          "1976-01-01T00:00:00.000000000",
          "1977-01-01T00:00:00.000000000",
          "1978-01-01T00:00:00.000000000",
          "1979-01-01T00:00:00.000000000",
          "1980-01-01T00:00:00.000000000",
          "1981-01-01T00:00:00.000000000",
          "1982-01-01T00:00:00.000000000",
          "1983-01-01T00:00:00.000000000",
          "1984-01-01T00:00:00.000000000",
          "1985-01-01T00:00:00.000000000",
          "1986-01-01T00:00:00.000000000",
          "1987-01-01T00:00:00.000000000",
          "1988-01-01T00:00:00.000000000",
          "1989-01-01T00:00:00.000000000",
          "1990-01-01T00:00:00.000000000",
          "1991-01-01T00:00:00.000000000",
          "1992-01-01T00:00:00.000000000",
          "1993-01-01T00:00:00.000000000",
          "1994-01-01T00:00:00.000000000",
          "1995-01-01T00:00:00.000000000",
          "1996-01-01T00:00:00.000000000",
          "1997-01-01T00:00:00.000000000",
          "1998-01-01T00:00:00.000000000",
          "1999-01-01T00:00:00.000000000",
          "2000-01-01T00:00:00.000000000",
          "2001-01-01T00:00:00.000000000",
          "2002-01-01T00:00:00.000000000",
          "2003-01-01T00:00:00.000000000",
          "2004-01-01T00:00:00.000000000",
          "2005-01-01T00:00:00.000000000",
          "2006-01-01T00:00:00.000000000",
          "2007-01-01T00:00:00.000000000",
          "2008-01-01T00:00:00.000000000",
          "2009-01-01T00:00:00.000000000",
          "2010-01-01T00:00:00.000000000",
          "2011-01-01T00:00:00.000000000",
          "2012-01-01T00:00:00.000000000",
          "2013-01-01T00:00:00.000000000",
          "2014-01-01T00:00:00.000000000",
          "2015-01-01T00:00:00.000000000",
          "2016-01-01T00:00:00.000000000",
          "2017-01-01T00:00:00.000000000",
          "2018-01-01T00:00:00.000000000",
          "2019-01-01T00:00:00.000000000",
          "2020-01-01T00:00:00.000000000",
          "2021-01-01T00:00:00.000000000",
          "2022-01-01T00:00:00.000000000",
          "2023-01-01T00:00:00.000000000",
          "2024-01-01T00:00:00.000000000"
         ],
         "y": {
          "bdata": "AAAAAAAA+H8AAAAAAAD4fwAAAAAAAPh/AAAAAAAA+H8AAAAAAAD4fwAAAAAAAPh/AAAAAAAA+H8AAAAAAAD4fwAAAAAAAPh/AAAAAAAA+H8AAAAAAAD4fwAAAAAAAPh/AAAAAAAA+H8AAAAAAAD4fwAAAAAAAPh/AAAAAAAA+H8AAAAAAAD4fwAAAAAAAPh/AAAAAAAA+H8AAAAAAAD4fwAAAAAAAPh/AAAAAAAA+H8AAAAAAAD4f0ykTlZt+hZACV4+xy4P1r8A+Wlcd3MKwAVEwzkv99g/IVf1FvqxD0CqfCHdvYggQDRut7mgchlAD8sD/4TlGUCQ5zjPZDcWQKHK5X/LWAtA2Gwn0A+nIECgd/yvUp0ZQBtY6JzmCydA7oq9M+wkIkAPyIrjZmYUQOLESOr9nhNAYtonH58bIEDImoRQoCIJQEMCdKkRvBRASbKoliJ3IUDcZ9XrneQZQJ1VrGCbOhtAHAUo84tUGUDJ/SAEypElQIrHA38p0yBAIjp8h+FqIUDuuL32wDQbQH9nqhDqjBZArgqZEYfIIkCFxb7sG7MOQB/ti677sQxATKPX09tsFEDxJcxVXsAUQPOVaoq+HxNA3Fb4VR4NCUBFfcvLNzcZQKMFvGBGwRlAx++dikacB0BALDii6koMQCMnLmsiWhJAkWo3cA9ZFUCbGvMTuosYQA==",
          "dtype": "f8"
         },
         "yaxis": "y2"
        },
        {
         "name": "Inflation",
         "type": "bar",
         "visible": false,
         "x": [
          "1960-01-01T00:00:00.000000000",
          "1961-01-01T00:00:00.000000000",
          "1962-01-01T00:00:00.000000000",
          "1963-01-01T00:00:00.000000000",
          "1964-01-01T00:00:00.000000000",
          "1965-01-01T00:00:00.000000000",
          "1966-01-01T00:00:00.000000000",
          "1967-01-01T00:00:00.000000000",
          "1968-01-01T00:00:00.000000000",
          "1969-01-01T00:00:00.000000000",
          "1970-01-01T00:00:00.000000000",
          "1971-01-01T00:00:00.000000000",
          "1972-01-01T00:00:00.000000000",
          "1973-01-01T00:00:00.000000000",
          "1974-01-01T00:00:00.000000000",
          "1975-01-01T00:00:00.000000000",
          "1976-01-01T00:00:00.000000000",
          "1977-01-01T00:00:00.000000000",
          "1978-01-01T00:00:00.000000000",
          "1979-01-01T00:00:00.000000000",
          "1980-01-01T00:00:00.000000000",
          "1981-01-01T00:00:00.000000000",
          "1982-01-01T00:00:00.000000000",
          "1983-01-01T00:00:00.000000000",
          "1984-01-01T00:00:00.000000000",
          "1985-01-01T00:00:00.000000000",
          "1986-01-01T00:00:00.000000000",
          "1987-01-01T00:00:00.000000000",
          "1988-01-01T00:00:00.000000000",
          "1989-01-01T00:00:00.000000000",
          "1990-01-01T00:00:00.000000000",
          "1991-01-01T00:00:00.000000000",
          "1992-01-01T00:00:00.000000000",
          "1993-01-01T00:00:00.000000000",
          "1994-01-01T00:00:00.000000000",
          "1995-01-01T00:00:00.000000000",
          "1996-01-01T00:00:00.000000000",
          "1997-01-01T00:00:00.000000000",
          "1998-01-01T00:00:00.000000000",
          "1999-01-01T00:00:00.000000000",
          "2000-01-01T00:00:00.000000000",
          "2001-01-01T00:00:00.000000000",
          "2002-01-01T00:00:00.000000000",
          "2003-01-01T00:00:00.000000000",
          "2004-01-01T00:00:00.000000000",
          "2005-01-01T00:00:00.000000000",
          "2006-01-01T00:00:00.000000000",
          "2007-01-01T00:00:00.000000000",
          "2008-01-01T00:00:00.000000000",
          "2009-01-01T00:00:00.000000000",
          "2010-01-01T00:00:00.000000000",
          "2011-01-01T00:00:00.000000000",
          "2012-01-01T00:00:00.000000000",
          "2013-01-01T00:00:00.000000000",
          "2014-01-01T00:00:00.000000000",
          "2015-01-01T00:00:00.000000000",
          "2016-01-01T00:00:00.000000000",
          "2017-01-01T00:00:00.000000000",
          "2018-01-01T00:00:00.000000000",
          "2019-01-01T00:00:00.000000000",
          "2020-01-01T00:00:00.000000000",
          "2021-01-01T00:00:00.000000000",
          "2022-01-01T00:00:00.000000000",
          "2023-01-01T00:00:00.000000000",
          "2024-01-01T00:00:00.000000000"
         ],
         "y": {
          "bdata": "AAAAAAAA+H8AAAAAAAD4fwAAAAAAAPh/AAAAAAAA+H8AAAAAAAD4fwAAAAAAAPh/AAAAAAAA+H8AAAAAAAD4fwAAAAAAAPh/AAAAAAAA+H8AAAAAAAD4fwAAAAAAAPh/AAAAAAAA+H8AAAAAAAD4fwAAAAAAAPh/AAAAAAAA+H8AAAAAAAD4fwAAAAAAAPh/AAAAAAAA+H8AAAAAAAD4fwAAAAAAAPh/AAAAAAAA+H8AAAAAAAD4fwAAAAAAAPh/AAAAAAAA+H8AAAAAAAD4fwAAAAAAAPh/AAAAAAAA+H8AAAAAAAD4fwAAAAAAAPh/AAAAAAAA+H8AAAAAAAD4fwAAAAAAAPh/AAAAAAAA+H+RFt4w0hIkQH/4K/NXMxpAnQHoAT/EHEAHb3P6iVYgQE6mj3QmnbE/a0eenQYcF0C9rHs23CILQHcphpCN1/0/+pnWGYpm0r/G/PhqZ1whQDALZ1kyxQ1AXzs/eL/lIEDVhIjiIT4dQEDwpMjVjRhAe3AJvQkaKED7HZ7N1QgqQDqdd/X6zw9A3XZuN3mQMECUexXVqlspQEGJXAvvnhNAfeXeGwybCECmrMWp1lsWQD3o5/pT0xZA3LaZEcDWFEAAxuqml+0EQO2P0/7R8AZA8jEob6+BCkCyDXCr9qIBQCRU9t98yBxAscB57F5nFUDZNeyaSJYKQA==",
          "dtype": "f8"
         },
         "yaxis": "y2"
        },
        {
         "name": "Food Production Index",
         "type": "bar",
         "visible": false,
         "x": [
          "1960-01-01T00:00:00.000000000",
          "1961-01-01T00:00:00.000000000",
          "1962-01-01T00:00:00.000000000",
          "1963-01-01T00:00:00.000000000",
          "1964-01-01T00:00:00.000000000",
          "1965-01-01T00:00:00.000000000",
          "1966-01-01T00:00:00.000000000",
          "1967-01-01T00:00:00.000000000",
          "1968-01-01T00:00:00.000000000",
          "1969-01-01T00:00:00.000000000",
          "1970-01-01T00:00:00.000000000",
          "1971-01-01T00:00:00.000000000",
          "1972-01-01T00:00:00.000000000",
          "1973-01-01T00:00:00.000000000",
          "1974-01-01T00:00:00.000000000",
          "1975-01-01T00:00:00.000000000",
          "1976-01-01T00:00:00.000000000",
          "1977-01-01T00:00:00.000000000",
          "1978-01-01T00:00:00.000000000",
          "1979-01-01T00:00:00.000000000",
          "1980-01-01T00:00:00.000000000",
          "1981-01-01T00:00:00.000000000",
          "1982-01-01T00:00:00.000000000",
          "1983-01-01T00:00:00.000000000",
          "1984-01-01T00:00:00.000000000",
          "1985-01-01T00:00:00.000000000",
          "1986-01-01T00:00:00.000000000",
          "1987-01-01T00:00:00.000000000",
          "1988-01-01T00:00:00.000000000",
          "1989-01-01T00:00:00.000000000",
          "1990-01-01T00:00:00.000000000",
          "1991-01-01T00:00:00.000000000",
          "1992-01-01T00:00:00.000000000",
          "1993-01-01T00:00:00.000000000",
          "1994-01-01T00:00:00.000000000",
          "1995-01-01T00:00:00.000000000",
          "1996-01-01T00:00:00.000000000",
          "1997-01-01T00:00:00.000000000",
          "1998-01-01T00:00:00.000000000",
          "1999-01-01T00:00:00.000000000",
          "2000-01-01T00:00:00.000000000",
          "2001-01-01T00:00:00.000000000",
          "2002-01-01T00:00:00.000000000",
          "2003-01-01T00:00:00.000000000",
          "2004-01-01T00:00:00.000000000",
          "2005-01-01T00:00:00.000000000",
          "2006-01-01T00:00:00.000000000",
          "2007-01-01T00:00:00.000000000",
          "2008-01-01T00:00:00.000000000",
          "2009-01-01T00:00:00.000000000",
          "2010-01-01T00:00:00.000000000",
          "2011-01-01T00:00:00.000000000",
          "2012-01-01T00:00:00.000000000",
          "2013-01-01T00:00:00.000000000",
          "2014-01-01T00:00:00.000000000",
          "2015-01-01T00:00:00.000000000",
          "2016-01-01T00:00:00.000000000",
          "2017-01-01T00:00:00.000000000",
          "2018-01-01T00:00:00.000000000",
          "2019-01-01T00:00:00.000000000",
          "2020-01-01T00:00:00.000000000",
          "2021-01-01T00:00:00.000000000",
          "2022-01-01T00:00:00.000000000",
          "2023-01-01T00:00:00.000000000",
          "2024-01-01T00:00:00.000000000"
         ],
         "y": {
          "bdata": "AAAAAAAA+H8AAAAAAMBBQFyPwvUofEJAw/UoXI8iREC4HoXrUbhEQD0K16Nw3UFAzczMzMysQkA9CtejcN1FQGZmZmZmhkdAUrgehevRSkDsUbgehctQQEjhehSuV1BAw/UoXI+iUECamZmZmelQQFK4HoXrIVJAUrgehetRU0DhehSuR+FRQFK4HoXrIVJA9ihcj8IlUkDD9Shcj+JKQBSuR+F6VEpACtejcD0KTEDD9Shcj+JOQD0K16NwDVBA7FG4HoVLTkDD9ShcjwJPQPYoXI/CFU9AhetRuB5VUEAUrkfhehRRQFyPwvUoLFJAZmZmZmbWUkDhehSuRyFTQBSuR+F61FJAhetRuB4VVEDD9Shcj0JUQAAAAAAAEFVAexSuR+HqVEAUrkfheiRVQOxRuB6Fq1ZAMzMzMzOzV0DhehSuR/FXQMP1KFyPgllAMzMzMzPDWkAAAAAAAEBbQPYoXI/CZVtAXI/C9ShcW0D2KFyPwhVbQGZmZmZmVlxAw/UoXI/yVUAUrkfhegRXQGZmZmZmlldAUrgeheuxV0BmZmZmZgZYQHsUrkfhulhAw/UoXI9yWUB7FK5H4epZQDMzMzMzo1dAH4XrUbj+WUAfhetRuG5aQM3MzMzMnF1AXI/C9ShsYUDD9Shcj/piQClcj8L18GBAKVyPwvXwYEApXI/C9fBgQA==",
          "dtype": "f8"
         },
         "yaxis": "y2"
        },
        {
         "name": "Rainfall",
         "type": "bar",
         "visible": false,
         "x": [
          "1960-01-01T00:00:00.000000000",
          "1961-01-01T00:00:00.000000000",
          "1962-01-01T00:00:00.000000000",
          "1963-01-01T00:00:00.000000000",
          "1964-01-01T00:00:00.000000000",
          "1965-01-01T00:00:00.000000000",
          "1966-01-01T00:00:00.000000000",
          "1967-01-01T00:00:00.000000000",
          "1968-01-01T00:00:00.000000000",
          "1969-01-01T00:00:00.000000000",
          "1970-01-01T00:00:00.000000000",
          "1971-01-01T00:00:00.000000000",
          "1972-01-01T00:00:00.000000000",
          "1973-01-01T00:00:00.000000000",
          "1974-01-01T00:00:00.000000000",
          "1975-01-01T00:00:00.000000000",
          "1976-01-01T00:00:00.000000000",
          "1977-01-01T00:00:00.000000000",
          "1978-01-01T00:00:00.000000000",
          "1979-01-01T00:00:00.000000000",
          "1980-01-01T00:00:00.000000000",
          "1981-01-01T00:00:00.000000000",
          "1982-01-01T00:00:00.000000000",
          "1983-01-01T00:00:00.000000000",
          "1984-01-01T00:00:00.000000000",
          "1985-01-01T00:00:00.000000000",
          "1986-01-01T00:00:00.000000000",
          "1987-01-01T00:00:00.000000000",
          "1988-01-01T00:00:00.000000000",
          "1989-01-01T00:00:00.000000000",
          "1990-01-01T00:00:00.000000000",
          "1991-01-01T00:00:00.000000000",
          "1992-01-01T00:00:00.000000000",
          "1993-01-01T00:00:00.000000000",
          "1994-01-01T00:00:00.000000000",
          "1995-01-01T00:00:00.000000000",
          "1996-01-01T00:00:00.000000000",
          "1997-01-01T00:00:00.000000000",
          "1998-01-01T00:00:00.000000000",
          "1999-01-01T00:00:00.000000000",
          "2000-01-01T00:00:00.000000000",
          "2001-01-01T00:00:00.000000000",
          "2002-01-01T00:00:00.000000000",
          "2003-01-01T00:00:00.000000000",
          "2004-01-01T00:00:00.000000000",
          "2005-01-01T00:00:00.000000000",
          "2006-01-01T00:00:00.000000000",
          "2007-01-01T00:00:00.000000000",
          "2008-01-01T00:00:00.000000000",
          "2009-01-01T00:00:00.000000000",
          "2010-01-01T00:00:00.000000000",
          "2011-01-01T00:00:00.000000000",
          "2012-01-01T00:00:00.000000000",
          "2013-01-01T00:00:00.000000000",
          "2014-01-01T00:00:00.000000000",
          "2015-01-01T00:00:00.000000000",
          "2016-01-01T00:00:00.000000000",
          "2017-01-01T00:00:00.000000000",
          "2018-01-01T00:00:00.000000000",
          "2019-01-01T00:00:00.000000000",
          "2020-01-01T00:00:00.000000000",
          "2021-01-01T00:00:00.000000000",
          "2022-01-01T00:00:00.000000000",
          "2023-01-01T00:00:00.000000000",
          "2024-01-01T00:00:00.000000000"
         ],
         "y": {
          "bdata": "AAAAAAAA+H8AAAAAAAD4fwAAAAAAAPh/AAAAAAAA+H8AAAAAAAD4fwAAAAAAAPh/AAAAAAAA+H8AAAAAAAD4fwAAAAAAAPh/AAAAAAAA+H8AAAAAAAD4fwAAAAAAAPh/AAAAAAAA+H8AAAAAAAD4fwAAAAAAAPh/AAAAAAAA+H8AAAAAAAD4fwAAAAAAAPh/AAAAAAAA+H8AAAAAAAD4fwAAAAAAAPh/AAAAAAAA+H8AAAAAAAD4fwAAAAAAAPh/AAAAAAAA+H8AAAAAAAD4fwAAAAAAAPh/AAAAAAAA+H8AAAAAAAD4fwAAAAAAAPh/AAAAAAAA+H8AAAAAAAD4fwAAAAAAAPh/AAAAAAAA+H8AAAAAAAD4fwAAAAAAAPh/AAAAAAAA+H8AAAAAAAD4fwAAAAAAAPh/AAAAAAAA+H8AAAAAAAD4fwAAAAAAAPh/AAAAAAAA+H8AAAAAAAD4fwAAAAAAAPh/AAAAAAAA+H8AAAAAAAD4fwAAAAAAAPh/AAAAAAAA+H8AAAAAAAD4fwfTvD3JrolA1mTyLeXoi0BKqj3GFCiQQPnNMQkxqJFALeKmY/FlikBdV0EXzniNQDtugMoZsYxAwH84FqxkjUDLmUDWmX+OQMIgPHqi8JFALESmTGGMjkAsRKZMYYyOQCxEpkxhjI5ALESmTGGMjkAsRKZMYYyOQA==",
          "dtype": "f8"
         },
         "yaxis": "y2"
        }
       ],
       "layout": {
        "annotations": [
         {
          "font": {
           "size": 14
          },
          "showarrow": false,
          "text": "Primary KPI: Diarrhea Prevalence Trend",
          "x": 0.5,
          "xref": "paper",
          "y": 1.1,
          "yref": "paper"
         },
         {
          "font": {
           "size": 12
          },
          "showarrow": false,
          "text": "Select time range and indicators for analysis",
          "x": 0,
          "xref": "paper",
          "y": -0.2,
          "yref": "paper"
         }
        ],
        "height": 600,
        "hovermode": "x unified",
        "legend": {
         "orientation": "h",
         "x": 1,
         "xanchor": "right",
         "y": 1.02,
         "yanchor": "bottom"
        },
        "margin": {
         "b": 150,
         "t": 100
        },
        "template": {
         "data": {
          "bar": [
           {
            "error_x": {
             "color": "#2a3f5f"
            },
            "error_y": {
             "color": "#2a3f5f"
            },
            "marker": {
             "line": {
              "color": "#E5ECF6",
              "width": 0.5
             },
             "pattern": {
              "fillmode": "overlay",
              "size": 10,
              "solidity": 0.2
             }
            },
            "type": "bar"
           }
          ],
          "barpolar": [
           {
            "marker": {
             "line": {
              "color": "#E5ECF6",
              "width": 0.5
             },
             "pattern": {
              "fillmode": "overlay",
              "size": 10,
              "solidity": 0.2
             }
            },
            "type": "barpolar"
           }
          ],
          "carpet": [
           {
            "aaxis": {
             "endlinecolor": "#2a3f5f",
             "gridcolor": "white",
             "linecolor": "white",
             "minorgridcolor": "white",
             "startlinecolor": "#2a3f5f"
            },
            "baxis": {
             "endlinecolor": "#2a3f5f",
             "gridcolor": "white",
             "linecolor": "white",
             "minorgridcolor": "white",
             "startlinecolor": "#2a3f5f"
            },
            "type": "carpet"
           }
          ],
          "choropleth": [
           {
            "colorbar": {
             "outlinewidth": 0,
             "ticks": ""
            },
            "type": "choropleth"
           }
          ],
          "contour": [
           {
            "colorbar": {
             "outlinewidth": 0,
             "ticks": ""
            },
            "colorscale": [
             [
              0,
              "#0d0887"
             ],
             [
              0.1111111111111111,
              "#46039f"
             ],
             [
              0.2222222222222222,
              "#7201a8"
             ],
             [
              0.3333333333333333,
              "#9c179e"
             ],
             [
              0.4444444444444444,
              "#bd3786"
             ],
             [
              0.5555555555555556,
              "#d8576b"
             ],
             [
              0.6666666666666666,
              "#ed7953"
             ],
             [
              0.7777777777777778,
              "#fb9f3a"
             ],
             [
              0.8888888888888888,
              "#fdca26"
             ],
             [
              1,
              "#f0f921"
             ]
            ],
            "type": "contour"
           }
          ],
          "contourcarpet": [
           {
            "colorbar": {
             "outlinewidth": 0,
             "ticks": ""
            },
            "type": "contourcarpet"
           }
          ],
          "heatmap": [
           {
            "colorbar": {
             "outlinewidth": 0,
             "ticks": ""
            },
            "colorscale": [
             [
              0,
              "#0d0887"
             ],
             [
              0.1111111111111111,
              "#46039f"
             ],
             [
              0.2222222222222222,
              "#7201a8"
             ],
             [
              0.3333333333333333,
              "#9c179e"
             ],
             [
              0.4444444444444444,
              "#bd3786"
             ],
             [
              0.5555555555555556,
              "#d8576b"
             ],
             [
              0.6666666666666666,
              "#ed7953"
             ],
             [
              0.7777777777777778,
              "#fb9f3a"
             ],
             [
              0.8888888888888888,
              "#fdca26"
             ],
             [
              1,
              "#f0f921"
             ]
            ],
            "type": "heatmap"
           }
          ],
          "histogram": [
           {
            "marker": {
             "pattern": {
              "fillmode": "overlay",
              "size": 10,
              "solidity": 0.2
             }
            },
            "type": "histogram"
           }
          ],
          "histogram2d": [
           {
            "colorbar": {
             "outlinewidth": 0,
             "ticks": ""
            },
            "colorscale": [
             [
              0,
              "#0d0887"
             ],
             [
              0.1111111111111111,
              "#46039f"
             ],
             [
              0.2222222222222222,
              "#7201a8"
             ],
             [
              0.3333333333333333,
              "#9c179e"
             ],
             [
              0.4444444444444444,
              "#bd3786"
             ],
             [
              0.5555555555555556,
              "#d8576b"
             ],
             [
              0.6666666666666666,
              "#ed7953"
             ],
             [
              0.7777777777777778,
              "#fb9f3a"
             ],
             [
              0.8888888888888888,
              "#fdca26"
             ],
             [
              1,
              "#f0f921"
             ]
            ],
            "type": "histogram2d"
           }
          ],
          "histogram2dcontour": [
           {
            "colorbar": {
             "outlinewidth": 0,
             "ticks": ""
            },
            "colorscale": [
             [
              0,
              "#0d0887"
             ],
             [
              0.1111111111111111,
              "#46039f"
             ],
             [
              0.2222222222222222,
              "#7201a8"
             ],
             [
              0.3333333333333333,
              "#9c179e"
             ],
             [
              0.4444444444444444,
              "#bd3786"
             ],
             [
              0.5555555555555556,
              "#d8576b"
             ],
             [
              0.6666666666666666,
              "#ed7953"
             ],
             [
              0.7777777777777778,
              "#fb9f3a"
             ],
             [
              0.8888888888888888,
              "#fdca26"
             ],
             [
              1,
              "#f0f921"
             ]
            ],
            "type": "histogram2dcontour"
           }
          ],
          "mesh3d": [
           {
            "colorbar": {
             "outlinewidth": 0,
             "ticks": ""
            },
            "type": "mesh3d"
           }
          ],
          "parcoords": [
           {
            "line": {
             "colorbar": {
              "outlinewidth": 0,
              "ticks": ""
             }
            },
            "type": "parcoords"
           }
          ],
          "pie": [
           {
            "automargin": true,
            "type": "pie"
           }
          ],
          "scatter": [
           {
            "fillpattern": {
             "fillmode": "overlay",
             "size": 10,
             "solidity": 0.2
            },
            "type": "scatter"
           }
          ],
          "scatter3d": [
           {
            "line": {
             "colorbar": {
              "outlinewidth": 0,
              "ticks": ""
             }
            },
            "marker": {
             "colorbar": {
              "outlinewidth": 0,
              "ticks": ""
             }
            },
            "type": "scatter3d"
           }
          ],
          "scattercarpet": [
           {
            "marker": {
             "colorbar": {
              "outlinewidth": 0,
              "ticks": ""
             }
            },
            "type": "scattercarpet"
           }
          ],
          "scattergeo": [
           {
            "marker": {
             "colorbar": {
              "outlinewidth": 0,
              "ticks": ""
             }
            },
            "type": "scattergeo"
           }
          ],
          "scattergl": [
           {
            "marker": {
             "colorbar": {
              "outlinewidth": 0,
              "ticks": ""
             }
            },
            "type": "scattergl"
           }
          ],
          "scattermap": [
           {
            "marker": {
             "colorbar": {
              "outlinewidth": 0,
              "ticks": ""
             }
            },
            "type": "scattermap"
           }
          ],
          "scattermapbox": [
           {
            "marker": {
             "colorbar": {
              "outlinewidth": 0,
              "ticks": ""
             }
            },
            "type": "scattermapbox"
           }
          ],
          "scatterpolar": [
           {
            "marker": {
             "colorbar": {
              "outlinewidth": 0,
              "ticks": ""
             }
            },
            "type": "scatterpolar"
           }
          ],
          "scatterpolargl": [
           {
            "marker": {
             "colorbar": {
              "outlinewidth": 0,
              "ticks": ""
             }
            },
            "type": "scatterpolargl"
           }
          ],
          "scatterternary": [
           {
            "marker": {
             "colorbar": {
              "outlinewidth": 0,
              "ticks": ""
             }
            },
            "type": "scatterternary"
           }
          ],
          "surface": [
           {
            "colorbar": {
             "outlinewidth": 0,
             "ticks": ""
            },
            "colorscale": [
             [
              0,
              "#0d0887"
             ],
             [
              0.1111111111111111,
              "#46039f"
             ],
             [
              0.2222222222222222,
              "#7201a8"
             ],
             [
              0.3333333333333333,
              "#9c179e"
             ],
             [
              0.4444444444444444,
              "#bd3786"
             ],
             [
              0.5555555555555556,
              "#d8576b"
             ],
             [
              0.6666666666666666,
              "#ed7953"
             ],
             [
              0.7777777777777778,
              "#fb9f3a"
             ],
             [
              0.8888888888888888,
              "#fdca26"
             ],
             [
              1,
              "#f0f921"
             ]
            ],
            "type": "surface"
           }
          ],
          "table": [
           {
            "cells": {
             "fill": {
              "color": "#EBF0F8"
             },
             "line": {
              "color": "white"
             }
            },
            "header": {
             "fill": {
              "color": "#C8D4E3"
             },
             "line": {
              "color": "white"
             }
            },
            "type": "table"
           }
          ]
         },
         "layout": {
          "annotationdefaults": {
           "arrowcolor": "#2a3f5f",
           "arrowhead": 0,
           "arrowwidth": 1
          },
          "autotypenumbers": "strict",
          "coloraxis": {
           "colorbar": {
            "outlinewidth": 0,
            "ticks": ""
           }
          },
          "colorscale": {
           "diverging": [
            [
             0,
             "#8e0152"
            ],
            [
             0.1,
             "#c51b7d"
            ],
            [
             0.2,
             "#de77ae"
            ],
            [
             0.3,
             "#f1b6da"
            ],
            [
             0.4,
             "#fde0ef"
            ],
            [
             0.5,
             "#f7f7f7"
            ],
            [
             0.6,
             "#e6f5d0"
            ],
            [
             0.7,
             "#b8e186"
            ],
            [
             0.8,
             "#7fbc41"
            ],
            [
             0.9,
             "#4d9221"
            ],
            [
             1,
             "#276419"
            ]
           ],
           "sequential": [
            [
             0,
             "#0d0887"
            ],
            [
             0.1111111111111111,
             "#46039f"
            ],
            [
             0.2222222222222222,
             "#7201a8"
            ],
            [
             0.3333333333333333,
             "#9c179e"
            ],
            [
             0.4444444444444444,
             "#bd3786"
            ],
            [
             0.5555555555555556,
             "#d8576b"
            ],
            [
             0.6666666666666666,
             "#ed7953"
            ],
            [
             0.7777777777777778,
             "#fb9f3a"
            ],
            [
             0.8888888888888888,
             "#fdca26"
            ],
            [
             1,
             "#f0f921"
            ]
           ],
           "sequentialminus": [
            [
             0,
             "#0d0887"
            ],
            [
             0.1111111111111111,
             "#46039f"
            ],
            [
             0.2222222222222222,
             "#7201a8"
            ],
            [
             0.3333333333333333,
             "#9c179e"
            ],
            [
             0.4444444444444444,
             "#bd3786"
            ],
            [
             0.5555555555555556,
             "#d8576b"
            ],
            [
             0.6666666666666666,
             "#ed7953"
            ],
            [
             0.7777777777777778,
             "#fb9f3a"
            ],
            [
             0.8888888888888888,
             "#fdca26"
            ],
            [
             1,
             "#f0f921"
            ]
           ]
          },
          "colorway": [
           "#636efa",
           "#EF553B",
           "#00cc96",
           "#ab63fa",
           "#FFA15A",
           "#19d3f3",
           "#FF6692",
           "#B6E880",
           "#FF97FF",
           "#FECB52"
          ],
          "font": {
           "color": "#2a3f5f"
          },
          "geo": {
           "bgcolor": "white",
           "lakecolor": "white",
           "landcolor": "#E5ECF6",
           "showlakes": true,
           "showland": true,
           "subunitcolor": "white"
          },
          "hoverlabel": {
           "align": "left"
          },
          "hovermode": "closest",
          "mapbox": {
           "style": "light"
          },
          "paper_bgcolor": "white",
          "plot_bgcolor": "#E5ECF6",
          "polar": {
           "angularaxis": {
            "gridcolor": "white",
            "linecolor": "white",
            "ticks": ""
           },
           "bgcolor": "#E5ECF6",
           "radialaxis": {
            "gridcolor": "white",
            "linecolor": "white",
            "ticks": ""
           }
          },
          "scene": {
           "xaxis": {
            "backgroundcolor": "#E5ECF6",
            "gridcolor": "white",
            "gridwidth": 2,
            "linecolor": "white",
            "showbackground": true,
            "ticks": "",
            "zerolinecolor": "white"
           },
           "yaxis": {
            "backgroundcolor": "#E5ECF6",
            "gridcolor": "white",
            "gridwidth": 2,
            "linecolor": "white",
            "showbackground": true,
            "ticks": "",
            "zerolinecolor": "white"
           },
           "zaxis": {
            "backgroundcolor": "#E5ECF6",
            "gridcolor": "white",
            "gridwidth": 2,
            "linecolor": "white",
            "showbackground": true,
            "ticks": "",
            "zerolinecolor": "white"
           }
          },
          "shapedefaults": {
           "line": {
            "color": "#2a3f5f"
           }
          },
          "ternary": {
           "aaxis": {
            "gridcolor": "white",
            "linecolor": "white",
            "ticks": ""
           },
           "baxis": {
            "gridcolor": "white",
            "linecolor": "white",
            "ticks": ""
           },
           "bgcolor": "#E5ECF6",
           "caxis": {
            "gridcolor": "white",
            "linecolor": "white",
            "ticks": ""
           }
          },
          "title": {
           "x": 0.05
          },
          "xaxis": {
           "automargin": true,
           "gridcolor": "white",
           "linecolor": "white",
           "ticks": "",
           "title": {
            "standoff": 15
           },
           "zerolinecolor": "white",
           "zerolinewidth": 2
          },
          "yaxis": {
           "automargin": true,
           "gridcolor": "white",
           "linecolor": "white",
           "ticks": "",
           "title": {
            "standoff": 15
           },
           "zerolinecolor": "white",
           "zerolinewidth": 2
          }
         }
        },
        "title": {
         "text": "Childhood Diarrhea Prevalence with Economic and Climate Context"
        },
        "updatemenus": [
         {
          "buttons": [
           {
            "args": [
             {
              "visible": [
               true,
               true,
               true,
               true,
               true,
               true,
               false,
               false,
               false
              ],
              "yaxis2.title": "GDP Growth (%)"
             }
            ],
            "label": "Show GDP",
            "method": "update"
           },
           {
            "args": [
             {
              "visible": [
               true,
               true,
               true,
               true,
               true,
               false,
               true,
               false,
               false
              ],
              "yaxis2.title": "Inflation Rate (%)"
             }
            ],
            "label": "Show Inflation",
            "method": "update"
           },
           {
            "args": [
             {
              "visible": [
               true,
               true,
               true,
               true,
               true,
               false,
               false,
               true,
               false
              ],
              "yaxis2.title": "Food Production Index"
             }
            ],
            "label": "Show Food Index",
            "method": "update"
           },
           {
            "args": [
             {
              "visible": [
               true,
               true,
               true,
               true,
               true,
               false,
               false,
               false,
               true
              ],
              "yaxis2.title": "Rainfall (mm)"
             }
            ],
            "label": "Show Rainfall",
            "method": "update"
           }
          ],
          "direction": "right",
          "showactive": true,
          "type": "buttons",
          "x": 0.5,
          "y": -0.15
         }
        ],
        "xaxis": {
         "rangeselector": {
          "buttons": [
           {
            "count": 5,
            "label": "5y",
            "step": "year",
            "stepmode": "backward"
           },
           {
            "count": 10,
            "label": "10y",
            "step": "year",
            "stepmode": "backward"
           },
           {
            "step": "all"
           }
          ]
         },
         "rangeslider": {
          "visible": true
         },
         "title": {
          "text": "Year"
         },
         "type": "date"
        },
        "yaxis": {
         "title": {
          "text": "Diarrhea Prevalence (%)"
         }
        },
        "yaxis2": {
         "overlaying": "y",
         "showgrid": false,
         "side": "right",
         "title": {
          "text": "Indicator Value"
         }
        }
       }
      }
     },
     "metadata": {},
     "output_type": "display_data"
    }
   ],
   "source": [
    "# Create an interactive dashboard with Z-pattern layout\n",
    "# Reflective Write-up (from markdown):\n",
    "# - Real-world Applications:\n",
    "#   1. Resource Allocation: Time vaccine campaigns, pre-position ORS supplies\n",
    "#   2. Policy Making: Link social protection to inflation, adjust health budgets\n",
    "#   3. Early Warning: Trigger responses for high prevalence, monitor food price spikes\n",
    "def create_dashboard():\n",
    "    \"\"\"Create an interactive Plotly dashboard for diarrhea prevalence analysis.\"\"\"\n",
    "    fig = go.Figure()\n",
    "    \n",
    "    # Main time series plot\n",
    "    fig.add_trace(go.Scatter(\n",
    "        x=diarrhea_series.index,\n",
    "        y=diarrhea_series,\n",
    "        name='Actual Prevalence',\n",
    "        line=dict(color='blue')\n",
    "    ))\n",
    "    \n",
    "    # Prophet forecast with confidence intervals\n",
    "    if not prophet_forecast.empty:\n",
    "        fig.add_trace(go.Scatter(\n",
    "            x=prophet_forecast['ds'],\n",
    "            y=prophet_forecast['yhat'],\n",
    "            name='Prophet Forecast',\n",
    "            line=dict(color='green', dash='dot')\n",
    "        ))\n",
    "        fig.add_trace(go.Scatter(\n",
    "            x=prophet_forecast['ds'],\n",
    "            y=prophet_forecast['yhat_upper'],\n",
    "            fill=None,\n",
    "            mode='lines',\n",
    "            line=dict(width=0),\n",
    "            showlegend=False\n",
    "        ))\n",
    "        fig.add_trace(go.Scatter(\n",
    "            x=prophet_forecast['ds'],\n",
    "            y=prophet_forecast['yhat_lower'],\n",
    "            fill='tonexty',\n",
    "            mode='lines',\n",
    "            line=dict(width=0),\n",
    "            name='Confidence Interval (80%)'\n",
    "            # Reflective Write-up: Wider intervals indicate greater uncertainty\n",
    "        ))\n",
    "    \n",
    "    # ARIMA forecast\n",
    "    if not arima_values.empty:\n",
    "        fig.add_trace(go.Scatter(\n",
    "            x=arima_values.index,\n",
    "            y=arima_values,\n",
    "            name='ARIMA Forecast',\n",
    "            line=dict(color='red', dash='dash')\n",
    "        ))\n",
    "    \n",
    "    # Economic and climate indicators as bar charts\n",
    "    for indicator in regressor_cols:\n",
    "        if indicator in combined_data.columns:\n",
    "            fig.add_trace(go.Bar(\n",
    "                x=combined_data.index,\n",
    "                y=combined_data[indicator],\n",
    "                name=indicator,\n",
    "                visible=False,\n",
    "                yaxis='y2'\n",
    "            ))\n",
    "    \n",
    "    # Enhanced Z-pattern layout\n",
    "    fig.update_layout(\n",
    "        title='Childhood Diarrhea Prevalence with Economic and Climate Context',\n",
    "        xaxis_title='Year',\n",
    "        yaxis_title='Diarrhea Prevalence (%)',\n",
    "        yaxis2=dict(\n",
    "            title='Indicator Value',\n",
    "            overlaying='y',\n",
    "            side='right',\n",
    "            showgrid=False\n",
    "        ),\n",
    "        hovermode='x unified',\n",
    "        xaxis=dict(\n",
    "            rangeselector=dict(\n",
    "                buttons=list([\n",
    "                    dict(count=5, label=\"5y\", step=\"year\", stepmode=\"backward\"),\n",
    "                    dict(count=10, label=\"10y\", step=\"year\", stepmode=\"backward\"),\n",
    "                    dict(step=\"all\")\n",
    "                ])\n",
    "            ),\n",
    "            rangeslider=dict(visible=True),\n",
    "            type=\"date\"\n",
    "        ),\n",
    "        legend=dict(\n",
    "            orientation=\"h\",\n",
    "            yanchor=\"bottom\",\n",
    "            y=1.02,\n",
    "            xanchor=\"right\",\n",
    "            x=1\n",
    "        ),\n",
    "        annotations=[\n",
    "            dict(\n",
    "                x=0.5,\n",
    "                y=1.1,\n",
    "                xref=\"paper\",\n",
    "                yref=\"paper\",\n",
    "                text=\"Primary KPI: Diarrhea Prevalence Trend\",\n",
    "                showarrow=False,\n",
    "                font=dict(size=14)\n",
    "            ),\n",
    "            dict(\n",
    "                x=0.0,\n",
    "                y=-0.2,\n",
    "                xref=\"paper\",\n",
    "                yref=\"paper\",\n",
    "                text=\"Select time range and indicators for analysis\",\n",
    "                showarrow=False,\n",
    "                font=dict(size=12)\n",
    "            )\n",
    "        ],\n",
    "        updatemenus=[\n",
    "            dict(\n",
    "                type=\"buttons\",\n",
    "                direction=\"right\",\n",
    "                x=0.5,\n",
    "                y=-0.15,\n",
    "                showactive=True,\n",
    "                buttons=[\n",
    "                    dict(label=\"Show GDP\",\n",
    "                         method=\"update\",\n",
    "                         args=[{\n",
    "                             \"visible\": [True, True, True, True, True] + [True if col == 'GDP Growth' else False for col in regressor_cols],\n",
    "                             \"yaxis2.title\": \"GDP Growth (%)\"\n",
    "                         }]),\n",
    "                    dict(label=\"Show Inflation\",\n",
    "                         method=\"update\",\n",
    "                         args=[{\n",
    "                             \"visible\": [True, True, True, True, True] + [True if col == 'Inflation' else False for col in regressor_cols],\n",
    "                             \"yaxis2.title\": \"Inflation Rate (%)\"\n",
    "                         }]),\n",
    "                    dict(label=\"Show Food Index\",\n",
    "                         method=\"update\",\n",
    "                         args=[{\n",
    "                             \"visible\": [True, True, True, True, True] + [True if col == 'Food Production Index' else False for col in regressor_cols],\n",
    "                             \"yaxis2.title\": \"Food Production Index\"\n",
    "                         }]),\n",
    "                    dict(label=\"Show Rainfall\",\n",
    "                         method=\"update\",\n",
    "                         args=[{\n",
    "                             \"visible\": [True, True, True, True, True] + [True if col == 'Rainfall' else False for col in regressor_cols],\n",
    "                             \"yaxis2.title\": \"Rainfall (mm)\"\n",
    "                         }])\n",
    "                ]\n",
    "            )\n",
    "        ],\n",
    "        height=600,\n",
    "        margin=dict(t=100, b=150)\n",
    "    )\n",
    "    \n",
    "    return fig\n",
    "\n",
    "# Create and display dashboard\n",
    "print(\"\\nCreating interactive dashboard...\")\n",
    "dashboard = create_dashboard()\n",
    "dashboard.show()"
   ]
  },
  {
   "cell_type": "markdown",
   "metadata": {},
   "source": [
    "SECTION 7: REFLECTIVE WRITE-UP\n",
    "\n",
    "Summary of key insights and applications (integrated as comments)\n",
    "# Model Performance:\n",
    "# - Prophet outperforms ARIMA due to:\n",
    "#   - Incorporation of external economic and climate factors\n",
    "#   - Better handling of missing data and irregular intervals\n",
    "#   - Automatic seasonality detection for multi-year patterns\n",
    "# Confidence Interval Interpretation:\n",
    "# - Shaded areas represent 80% confidence range\n",
    "# - Wider intervals indicate greater uncertainty, especially in long-term forecasts\n",
    "# Real-world Applications:\n",
    "# - Resource Allocation: Time vaccine campaigns, pre-position ORS supplies\n",
    "# - Policy Making: Link social protection to inflation, adjust health budgets"
   ]
  },
  {
   "cell_type": "code",
   "execution_count": null,
   "metadata": {},
   "outputs": [],
   "source": []
  },
  {
   "cell_type": "code",
   "execution_count": null,
   "metadata": {},
   "outputs": [],
   "source": [
    "# Load and combine health and economic data\n",
    "print(\"Loading and preparing data...\")\n",
    "dhs_clean = load_and_clean_data()\n",
    "economic_pivot = fetch_economic_data()\n",
    "\n",
    "# Aggregate health data to national level\n",
    "national_health = dhs_clean.groupby('Date').mean(numeric_only=True)\n",
    "\n",
    "# Log data shapes and date ranges for debugging\n",
    "print(\"\\nBefore merge:\")\n",
    "print(\"DHS data shape:\", national_health.shape)\n",
    "print(\"Economic data shape:\", economic_pivot.shape)\n",
    "print(\"DHS date range:\", national_health.index.min(), \"to\", national_health.index.max())\n",
    "print(\"Economic date range:\", economic_pivot.index.min(), \"to\", economic_pivot.index.max())\n",
    "\n",
    "# Merge health and economic data, keeping all economic data points and forward-filling health data\n",
    "combined_data = pd.merge(\n",
    "    national_health,\n",
    "    economic_pivot,\n",
    "    left_index=True,\n",
    "    right_index=True,\n",
    "    how='right'\n",
    ").ffill()\n",
    "\n",
    "# Log merged data details\n",
    "print(\"\\nAfter merge:\")\n",
    "print(\"Combined data shape:\", combined_data.shape)\n",
    "print(\"NaN counts:\\n\", combined_data.isna().sum())"
   ]
  },
  {
   "cell_type": "markdown",
   "metadata": {},
   "source": [
    "SECTION 4: TIME SERIES ANALYSIS"
   ]
  },
  {
   "cell_type": "code",
   "execution_count": 4,
   "metadata": {},
   "outputs": [
    {
     "name": "stdout",
     "output_type": "stream",
     "text": [
      "\n",
      "Running time series analysis...\n"
     ]
    }
   ],
   "source": [
    "# Perform time series decomposition and correlation analysis\n",
    "print(\"\\nRunning time series analysis...\")\n",
    "diarrhea_series = combined_data['Children with diarrhea'].dropna()\n",
    "\n",
    "# Decompose the time series\n",
    "try:\n",
    "    decomposition = seasonal_decompose(diarrhea_series, model='additive', period=3)\n",
    "except Exception as e:\n",
    "    print(f\"Decomposition failed: {str(e)}\")\n",
    "    decomposition = None\n",
    "\n",
    "# Calculate correlation matrix\n",
    "corr_matrix = combined_data.corr()"
   ]
  },
  {
   "cell_type": "markdown",
   "metadata": {},
   "source": [
    "SECTION 5: FORECASTING MODELS"
   ]
  },
  {
   "cell_type": "code",
   "execution_count": 5,
   "metadata": {},
   "outputs": [
    {
     "name": "stdout",
     "output_type": "stream",
     "text": [
      "\n",
      "Prophet input data:\n",
      "                                  ds          y\n",
      "count                             37  37.000000\n",
      "mean   2005-12-31 20:45:24.324324352  22.369291\n",
      "min              1988-01-01 00:00:00  19.847826\n",
      "25%              1997-01-01 00:00:00  20.125000\n",
      "50%              2006-01-01 00:00:00  22.730000\n",
      "75%              2015-01-01 00:00:00  24.400000\n",
      "max              2024-01-01 00:00:00  24.400000\n",
      "std                              NaN   2.091813\n",
      "Prophet forecast failed: Length of values (65) does not match length of index (37)\n"
     ]
    }
   ],
   "source": [
    "# Define forecasting functions for Prophet and ARIMA models\n",
    "def run_prophet_forecast():\n",
    "    \"\"\"Run Prophet model for forecasting diarrhea prevalence with economic regressors.\"\"\"\n",
    "    try:\n",
    "        prophet_df = combined_data[['Children with diarrhea']].reset_index()\n",
    "        prophet_df.columns = ['ds', 'y']  # Prophet requires specific column names\n",
    "        prophet_df = prophet_df.dropna()\n",
    "        \n",
    "        print(\"\\nProphet input data:\")\n",
    "        print(prophet_df.describe())\n",
    "        \n",
    "        prophet_model = Prophet(\n",
    "            seasonality_mode='additive',\n",
    "            yearly_seasonality=True,\n",
    "            weekly_seasonality=False,\n",
    "            daily_seasonality=False\n",
    "        )\n",
    "\n",
    "        # Add economic regressors\n",
    "        for col in ['GDP Growth', 'Inflation', 'Food Production Index']:\n",
    "            if col in combined_data.columns:\n",
    "                prophet_df[col] = combined_data[col].values\n",
    "                prophet_model.add_regressor(col)\n",
    "\n",
    "        prophet_model.fit(prophet_df)\n",
    "        future = prophet_model.make_future_dataframe(periods=5, freq='YE')\n",
    "        \n",
    "        # Extend regressors for future periods\n",
    "        for col in prophet_df.columns[2:]:\n",
    "            future[col] = np.append(prophet_df[col].values, [prophet_df[col].iloc[-1]] * 5)\n",
    "                \n",
    "        return prophet_model, prophet_model.predict(future)\n",
    "    except Exception as e:\n",
    "        print(f\"Prophet forecast failed: {str(e)}\")\n",
    "        return None, pd.DataFrame()\n",
    "\n",
    "def run_arima_forecast():\n",
    "    \"\"\"Run ARIMA model for forecasting diarrhea prevalence.\"\"\"\n",
    "    try:\n",
    "        diarrhea_series = combined_data['Children with diarrhea'].dropna()\n",
    "        diarrhea_series.index = pd.DatetimeIndex(diarrhea_series.index).to_period('Y')\n",
    "        \n",
    "        train_size = int(len(diarrhea_series) * 0.8)\n",
    "        train = diarrhea_series[:train_size]\n",
    "        \n",
    "        model = ARIMA(train, order=(1, 1, 1))\n",
    "        result = model.fit()\n",
    "        \n",
    "        forecast = result.get_forecast(steps=len(diarrhea_series) - train_size + 5)\n",
    "        return forecast.predicted_mean, forecast.conf_int()\n",
    "    except Exception as e:\n",
    "        print(f\"ARIMA forecast failed: {str(e)}\")\n",
    "        return pd.Series(), pd.DataFrame()\n",
    "\n",
    "# Run forecasting models\n",
    "prophet_model, prophet_forecast = run_prophet_forecast()\n",
    "arima_values, arima_conf = run_arima_forecast()\n",
    "\n",
    "# Define function to calculate model performance metrics\n",
    "def calculate_kpis(actual, predicted):\n",
    "    \"\"\"Calculate MAE, RMSE, and MAPE for model evaluation.\"\"\"\n",
    "    try:\n",
    "        aligned_actual = actual[actual.index.isin(predicted.index)]\n",
    "        aligned_pred = predicted[predicted.index.isin(actual.index)]\n",
    "        \n",
    "        return {\n",
    "            'MAE': mean_absolute_error(aligned_actual, aligned_pred),\n",
    "            'RMSE': np.sqrt(mean_squared_error(aligned_actual, aligned_pred)),\n",
    "            'MAPE': np.mean(np.abs((aligned_actual - aligned_pred) / aligned_actual)) * 100\n",
    "        }\n",
    "    except Exception as e:\n",
    "        print(f\"KPI calculation failed: {str(e)}\")\n",
    "        return {'MAE': np.nan, 'RMSE': np.nan, 'MAPE': np.nan}"
   ]
  },
  {
   "cell_type": "markdown",
   "metadata": {},
   "source": [
    "SECTION 6: DASHBOARD INITIALIZATION"
   ]
  },
  {
   "cell_type": "code",
   "execution_count": 16,
   "metadata": {},
   "outputs": [
    {
     "name": "stdout",
     "output_type": "stream",
     "text": [
      "\n",
      "Initializing dashboard...\n"
     ]
    }
   ],
   "source": [
    "# Initialize Dash app for interactive visualization\n",
    "print(\"\\nInitializing dashboard...\")\n",
    "app = Dash(__name__)\n",
    "\n",
    "# SECTION 7: DASHBOARD LAYOUT\n",
    "# Define the layout for the Dash dashboard with tabs and interactive components\n",
    "app.layout = html.Div([\n",
    "    # Header\n",
    "    html.H1(\"Comprehensive Analysis of Childhood Diarrhea in Uganda\", \n",
    "            style={'textAlign': 'center', 'color': '#2c3e50', 'marginBottom': '20px'}),\n",
    "    \n",
    "    # Tabs for different analysis sections\n",
    "    dcc.Tabs([\n",
    "        # Tab 1: Overview and Trends\n",
    "        dcc.Tab(label='Overview & Trends', children=[\n",
    "            html.Div([\n",
    "                # First Row: Controls and Main Chart\n",
    "                html.Div([\n",
    "                    # Controls for region, year, and economic indicator selection\n",
    "                    html.Div([\n",
    "                        html.Label(\"Select Regions:\", style={'fontWeight': 'bold'}),\n",
    "                        dcc.Dropdown(\n",
    "                            id='region-selector',\n",
    "                            options=[{'label': 'National Average', 'value': 'National'}] + \n",
    "                                   [{'label': region, 'value': region} \n",
    "                                    for region in dhs_clean['Location'].unique()],\n",
    "                            value=['National'],\n",
    "                            multi=True,\n",
    "                            style={'marginBottom': '20px'}\n",
    "                        ),\n",
    "                        html.Label(\"Select Year Range:\", style={'fontWeight': 'bold'}),\n",
    "                        dcc.RangeSlider(\n",
    "                            id='year-slider',\n",
    "                            min=combined_data.index.year.min(),\n",
    "                            max=combined_data.index.year.max(),\n",
    "                            value=[combined_data.index.year.min(), combined_data.index.year.max()],\n",
    "                            marks={str(year): str(year) for year in combined_data.index.year.unique()},\n",
    "                            step=None\n",
    "                        ),\n",
    "                        html.Label(\"Show Economic Indicator:\", style={'fontWeight': 'bold', 'marginTop': '20px'}),\n",
    "                        dcc.Dropdown(\n",
    "                            id='economic-indicator-selector',\n",
    "                            options=[{'label': k, 'value': k} for k in economic_pivot.columns],\n",
    "                            value=None,\n",
    "                            style={'marginBottom': '20px'}\n",
    "                        ),\n",
    "                        html.Button('Update All Charts', id='update-button', \n",
    "                                   style={'marginTop': '20px', 'padding': '10px 15px'})\n",
    "                    ], style={'width': '25%', 'display': 'inline-block', 'padding': '20px'}),\n",
    "                    # Main time series chart\n",
    "                    html.Div([\n",
    "                        dcc.Graph(id='main-time-series', figure=go.Figure().update_layout(height=400))\n",
    "                    ], style={'width': '75%', 'display': 'inline-block'})\n",
    "                ], style={'margin': '20px 0'}),\n",
    "                \n",
    "                # Second Row: KPIs and Decomposition\n",
    "                html.Div([\n",
    "                    # Key Performance Indicators\n",
    "                    html.Div([\n",
    "                        html.H3(\"Key Performance Indicators\", style={'textAlign': 'center'}),\n",
    "                        html.Div(id='kpi-display', style={\n",
    "                            'display': 'flex',\n",
    "                            'justifyContent': 'space-around',\n",
    "                            'margin': '20px 0'\n",
    "                        })\n",
    "                    ], style={'width': '48%', 'display': 'inline-block', 'border': '1px solid #ddd', 'padding': '10px'}),\n",
    "                    # Time Series Decomposition\n",
    "                    html.Div([\n",
    "                        html.H3(\"Time Series Decomposition\", style={'textAlign': 'center'}),\n",
    "                        dcc.Graph(id='decomposition-chart', figure=go.Figure().update_layout(height=400))\n",
    "                    ], style={'width': '48%', 'display': 'inline-block', 'float': 'right', 'border': '1px solid #ddd', 'padding': '10px'})\n",
    "                ]),\n",
    "                \n",
    "                # Third Row: ACF/PACF and Model Evaluation\n",
    "                html.Div([\n",
    "                    # Autocorrelation Analysis\n",
    "                    html.Div([\n",
    "                        html.H3(\"Autocorrelation Analysis\", style={'textAlign': 'center'}),\n",
    "                        dcc.RadioItems(\n",
    "                            id='acf-pacf-selector',\n",
    "                            options=[\n",
    "                                {'label': 'ACF', 'value': 'acf'},\n",
    "                                {'label': 'PACF', 'value': 'pacf'}\n",
    "                            ],\n",
    "                            value='acf',\n",
    "                            style={'width': '50%', 'margin': '0 auto 10px'}\n",
    "                        ),\n",
    "                        dcc.Graph(id='acf-pacf-chart', figure=go.Figure().update_layout(height=400))\n",
    "                    ], style={'width': '48%', 'display': 'inline-block', 'border': '1px solid #ddd', 'padding': '10px'}),\n",
    "                    # Model Evaluation Metrics\n",
    "                    html.Div([\n",
    "                        html.H3(\"Model Evaluation Metrics\", style={'textAlign': 'center'}),\n",
    "                        dcc.Graph(id='model-evaluation-chart', figure=go.Figure().update_layout(height=400))\n",
    "                    ], style={'width': '48%', 'display': 'inline-block', 'float': 'right', 'border': '1px solid #ddd', 'padding': '10px'})\n",
    "                ], style={'marginTop': '20px'})\n",
    "            ])\n",
    "        ]),\n",
    "        \n",
    "        # Tab 2: Correlations and Economic Context\n",
    "        dcc.Tab(label='Correlations & Economics', children=[\n",
    "            html.Div([\n",
    "                # Correlation Matrix\n",
    "                html.Div([\n",
    "                    html.H3(\"Correlation Matrix\", style={'textAlign': 'center'}),\n",
    "                    dcc.Graph(id='correlation-matrix', figure=go.Figure().update_layout(height=400))\n",
    "                ], style={'border': '1px solid #ddd', 'padding': '10px', 'marginBottom': '20px'}),\n",
    "                # Economic Indicators Over Time\n",
    "                html.Div([\n",
    "                    html.H3(\"Economic Indicators Over Time\", style={'textAlign': 'center'}),\n",
    "                    dcc.Graph(id='economic-indicator-chart', figure=go.Figure().update_layout(height=400))\n",
    "                ], style={'border': '1px solid #ddd', 'padding': '10px', 'marginBottom': '20px'}),\n",
    "                # Economic vs Health Indicators Scatter Plot\n",
    "                html.Div([\n",
    "                    html.H3(\"Economic vs Health Indicators\", style={'textAlign': 'center'}),\n",
    "                    dcc.Dropdown(\n",
    "                        id='scatter-x-selector',\n",
    "                        options=[{'label': k, 'value': k} for k in economic_pivot.columns],\n",
    "                        value='GDP Growth',\n",
    "                        style={'width': '30%', 'display': 'inline-block', 'marginRight': '10px'}\n",
    "                    ),\n",
    "                    dcc.Dropdown(\n",
    "                        id='scatter-y-selector',\n",
    "                        options=[{'label': 'Children with diarrhea', 'value': 'Children with diarrhea'}] +\n",
    "                                [{'label': col, 'value': col} for col in dhs_clean.columns if col in [\n",
    "                                    'Knowledge of ORS', \n",
    "                                    'Treatment of diarrhea: Oral rehydration solution (ORS)',\n",
    "                                    'Treatment of diarrhea: No treatment'\n",
    "                                ]],\n",
    "                        value='Children with diarrhea',\n",
    "                        style={'width': '30%', 'display': 'inline-block'}\n",
    "                    ),\n",
    "                    dcc.Graph(id='economic-health-scatter', figure=go.Figure().update_layout(height=400))\n",
    "                ], style={'border': '1px solid #ddd', 'padding': '10px'})\n",
    "            ])\n",
    "        ]),\n",
    "        \n",
    "        # Tab 3: Forecasting Models\n",
    "        dcc.Tab(label='Forecasting Models', children=[\n",
    "            html.Div([\n",
    "                # Model Comparison\n",
    "                html.Div([\n",
    "                    html.H3(\"Model Comparison\", style={'textAlign': 'center'}),\n",
    "                    dcc.Graph(id='model-comparison-chart', figure=go.Figure().update_layout(height=400))\n",
    "                ], style={'border': '1px solid #ddd', 'padding': '10px', 'marginBottom': '20px'}),\n",
    "                # Forecast Confidence Intervals\n",
    "                html.Div([\n",
    "                    html.H3(\"Forecast Confidence Intervals\", style={'textAlign': 'center'}),\n",
    "                    dcc.RadioItems(\n",
    "                        id='forecast-model-selector',\n",
    "                        options=[\n",
    "                            {'label': 'Prophet Model', 'value': 'prophet'},\n",
    "                            {'label': 'ARIMA Model', 'value': 'arima'}\n",
    "                        ],\n",
    "                        value='prophet',\n",
    "                        style={'width': '50%', 'margin': '0 auto 20px'}\n",
    "                    ),\n",
    "                    dcc.Graph(id='confidence-interval-chart', figure=go.Figure().update_layout(height=400))\n",
    "                ], style={'border': '1px solid #ddd', 'padding': '10px', 'marginBottom': '20px'}),\n",
    "                # Prophet Forecast Components\n",
    "                html.Div([\n",
    "                    html.H3(\"Prophet Forecast Components\", style={'textAlign': 'center'}),\n",
    "                    dcc.Graph(id='prophet-components-chart', figure=go.Figure().update_layout(height=400))\n",
    "                ], style={'border': '1px solid #ddd', 'padding': '10px'})\n",
    "            ])\n",
    "        ])\n",
    "    ])\n",
    "], style={'fontFamily': 'Arial, sans-serif', 'maxWidth': '1400px', 'margin': '0 auto'})\n",
    "\n"
   ]
  },
  {
   "cell_type": "markdown",
   "metadata": {},
   "source": [
    "SECTION 7: AUTOMATED REFLECTIVE WRITE-UP"
   ]
  },
  {
   "cell_type": "code",
   "execution_count": 17,
   "metadata": {},
   "outputs": [
    {
     "name": "stdout",
     "output_type": "stream",
     "text": [
      "\n",
      "Generating reflective write-up...\n",
      "Reflective write-up saved to Reflective_Writeup_Diarrhea_Analysis.txt\n"
     ]
    }
   ],
   "source": [
    "def generate_reflective_writeup(prophet_kpis, arima_kpis, prophet_forecast, combined_data):\n",
    "    \"\"\"Generate an automated reflective write-up based on model results.\n",
    "    \n",
    "    Args:\n",
    "        prophet_kpis (dict): KPIs for Prophet model (MAE, RMSE, MAPE).\n",
    "        arima_kpis (dict): KPIs for ARIMA model (MAE, RMSE, MAPE).\n",
    "        prophet_forecast (pd.DataFrame): Prophet forecast data.\n",
    "        combined_data (pd.DataFrame): Combined health, economic, and climate data.\n",
    "    \n",
    "    Returns:\n",
    "        str: Formatted reflective write-up text.\n",
    "    \"\"\"\n",
    "    # Model Performance Section\n",
    "    better_model = \"Prophet\" if prophet_kpis['MAE'] < arima_kpis['MAE'] else \"ARIMA\"\n",
    "    model_perf = f\"\"\"\n",
    "### Model Performance\n",
    "The {better_model} model outperformed the other in our evaluation. Key metrics:\n",
    "- Prophet: MAE = {prophet_kpis['MAE']:.2f}, RMSE = {prophet_kpis['RMSE']:.2f}, MAPE = {prophet_kpis['MAPE']:.2f}%\n",
    "- ARIMA: MAE = {arima_kpis['MAE']:.2f}, RMSE = {arima_kpis['RMSE']:.2f}, MAPE = {arima_kpis['MAPE']:.2f}%\n",
    "\n",
    "Reasons for {better_model}'s superior performance:\n",
    "- Incorporates external economic and climate factors (GDP Growth, Inflation, Food Production Index, Rainfall).\n",
    "- Better handles missing data and irregular time intervals in survey data.\n",
    "- Automatic seasonality detection captures multi-year patterns.\n",
    "\"\"\"\n",
    "    \n",
    "    # Confidence Interval Interpretation\n",
    "    if not prophet_forecast.empty:\n",
    "        conf_range = prophet_forecast['yhat_upper'].iloc[-1] - prophet_forecast['yhat_lower'].iloc[-1]\n",
    "        conf_trend = \"widening\" if conf_range > (prophet_forecast['yhat_upper'].iloc[-5] - prophet_forecast['yhat_lower'].iloc[-5]) else \"narrowing\"\n",
    "        conf_interpret = f\"\"\"\n",
    "### Confidence Interval Interpretation\n",
    "The Prophet model's forecasts include 80% confidence intervals:\n",
    "- The interval range for the latest forecast is {conf_range:.2f}%.\n",
    "- Intervals are {conf_trend} over time, indicating {'increasing' if conf_trend == 'widening' else 'decreasing'} uncertainty in long-term predictions.\n",
    "- Wider intervals reflect the inherent uncertainty in forecasting health outcomes influenced by multiple factors.\n",
    "\"\"\"\n",
    "    else:\n",
    "        conf_interpret = \"\"\"\n",
    "### Confidence Interval Interpretation\n",
    "No forecast data available for confidence interval analysis.\n",
    "\"\"\"\n",
    "\n",
    "    # Real-world Applications\n",
    "    latest_prevalence = combined_data['Children with diarrhea'].iloc[-1] if not combined_data.empty else np.nan\n",
    "    high_prevalence = latest_prevalence > 20 if not np.isnan(latest_prevalence) else False\n",
    "    food_spike = combined_data['Food Production Index'].pct_change().iloc[-1] < -0.1 if not combined_data.empty else False\n",
    "    applications = f\"\"\"\n",
    "### Real-world Applications\n",
    "Based on the analysis, the following applications are recommended:\n",
    "1. **Resource Allocation**:\n",
    "   - {'Time vaccine campaigns and pre-position ORS supplies in high-risk regions.' if high_prevalence else 'Maintain current vaccine and ORS distribution strategies.'}\n",
    "   - Focus on areas with rising economic stress (e.g., recent inflation rate: {combined_data['Inflation'].iloc[-1]:.2f}%).\n",
    "\n",
    "2. **Policy Making**:\n",
    "   - Link social protection programs to inflation thresholds (e.g., activate when inflation exceeds 5%).\n",
    "   - Adjust health budgets based on GDP growth projections (latest: {combined_data['GDP Growth'].iloc[-1]:.2f}%).\n",
    "\n",
    "3. **Early Warning**:\n",
    "   - {'Trigger emergency responses due to high prevalence (>20%).' if high_prevalence else 'Monitor prevalence trends for potential spikes.'}\n",
    "   - {'Alert: Recent food production decline detected.' if food_spike else 'Monitor food price indices as leading indicators of health risks.'}\n",
    "\"\"\"\n",
    "    \n",
    "    # Combine sections\n",
    "    writeup = f\"\"\"\n",
    "# Time Series Analysis of Childhood Diarrhea Prevalence in Uganda\n",
    "\n",
    "{model_perf}\n",
    "\n",
    "{conf_interpret}\n",
    "\n",
    "{applications}\n",
    "\"\"\"\n",
    "    return writeup\n",
    "\n",
    "# Generate and save reflective write-up\n",
    "print(\"\\nGenerating reflective write-up...\")\n",
    "reflective_writeup = generate_reflective_writeup(prophet_kpis, arima_kpis, prophet_forecast, combined_data)\n",
    "with open(\"Reflective_Writeup_Diarrhea_Analysis.txt\", \"w\") as f:\n",
    "    f.write(reflective_writeup)\n",
    "print(\"Reflective write-up saved to Reflective_Writeup_Diarrhea_Analysis.txt\")"
   ]
  },
  {
   "cell_type": "markdown",
   "metadata": {},
   "source": [
    "SECTION 8: DASHBOARD CALLBACKS"
   ]
  },
  {
   "cell_type": "code",
   "execution_count": 18,
   "metadata": {},
   "outputs": [],
   "source": [
    "\n",
    "# Define callback function to update all dashboard visualizations\n",
    "@app.callback(\n",
    "    [Output('main-time-series', 'figure'),\n",
    "     Output('kpi-display', 'children'),\n",
    "     Output('decomposition-chart', 'figure'),\n",
    "     Output('correlation-matrix', 'figure'),\n",
    "     Output('economic-indicator-chart', 'figure'),\n",
    "     Output('model-comparison-chart', 'figure'),\n",
    "     Output('confidence-interval-chart', 'figure'),\n",
    "     Output('acf-pacf-chart', 'figure'),\n",
    "     Output('model-evaluation-chart', 'figure'),\n",
    "     Output('economic-health-scatter', 'figure')],\n",
    "    [Input('update-button', 'n_clicks')],\n",
    "    [State('region-selector', 'value'),\n",
    "     State('year-slider', 'value'),\n",
    "     State('economic-indicator-selector', 'value'),\n",
    "     State('forecast-model-selector', 'value'),\n",
    "     State('acf-pacf-selector', 'value'),\n",
    "     State('scatter-x-selector', 'value'),\n",
    "     State('scatter-y-selector', 'value')]\n",
    ")\n",
    "def update_all_charts(n_clicks, selected_regions, selected_years, economic_indicator, \n",
    "                     forecast_model, acf_pacf, scatter_x, scatter_y):\n",
    "    \"\"\"Update all dashboard charts based on user inputs.\"\"\"\n",
    "    # Filter data by selected year range\n",
    "    filtered_data = combined_data[\n",
    "        (combined_data.index.year >= selected_years[0]) & \n",
    "        (combined_data.index.year <= selected_years[1])\n",
    "    ]\n",
    "    \n",
    "    print(f\"\\nUpdating charts for years {selected_years} with {len(filtered_data)} rows\")\n",
    "    \n",
    "    # 8.1 Main Time Series Chart\n",
    "    main_fig = go.Figure()\n",
    "    \n",
    "    if 'National' in selected_regions:\n",
    "        main_fig.add_trace(go.Scatter(\n",
    "            x=filtered_data.index,\n",
    "            y=filtered_data['Children with diarrhea'],\n",
    "            name='National Average',\n",
    "            line=dict(color='blue', width=2)\n",
    "        ))\n",
    "    \n",
    "    for region in selected_regions:\n",
    "        if region != 'National':\n",
    "            region_data = dhs_clean[dhs_clean['Location'] == region].groupby('Date').mean(numeric_only=True)\n",
    "            region_data = region_data[\n",
    "                (region_data.index.year >= selected_years[0]) & \n",
    "                (region_data.index.year <= selected_years[1])\n",
    "            ]\n",
    "            main_fig.add_trace(go.Scatter(\n",
    "                x=region_data.index,\n",
    "                y=region_data['Children with diarrhea'],\n",
    "                name=region,\n",
    "                line=dict(width=1)\n",
    "            ))\n",
    "    \n",
    "    if 'National' in selected_regions and not prophet_forecast.empty:\n",
    "        forecast_period = prophet_forecast[\n",
    "            (prophet_forecast['ds'].dt.year >= selected_years[0]) & \n",
    "            (prophet_forecast['ds'].dt.year <= selected_years[1])\n",
    "        ]\n",
    "        main_fig.add_trace(go.Scatter(\n",
    "            x=forecast_period['ds'],\n",
    "            y=forecast_period['yhat'],\n",
    "            name='Prophet Forecast',\n",
    "            line=dict(color='green', dash='dot')\n",
    "        ))\n",
    "    \n",
    "    if economic_indicator and economic_indicator in filtered_data.columns:\n",
    "        main_fig.add_trace(go.Bar(\n",
    "            x=filtered_data.index,\n",
    "            y=filtered_data[economic_indicator],\n",
    "            name=economic_indicator,\n",
    "            yaxis='y2',\n",
    "            opacity=0.3\n",
    "        ))\n",
    "        main_fig.update_layout(\n",
    "            yaxis2=dict(\n",
    "                title=economic_indicator,\n",
    "                overlaying='y',\n",
    "                side='right',\n",
    "                showgrid=False\n",
    "            )\n",
    "        )\n",
    "    \n",
    "    main_fig.update_layout(\n",
    "        title='Diarrhea Prevalence Trends',\n",
    "        xaxis_title='Year',\n",
    "        yaxis_title='Prevalence (%)',\n",
    "        hovermode='x unified',\n",
    "        height=400\n",
    "    )\n",
    "    \n",
    "    # 8.2 KPI Display\n",
    "    if 'National' not in selected_regions:\n",
    "        kpis = [html.Div(\"Select 'National' to view KPIs\", style={'color': '#999'})]\n",
    "    else:\n",
    "        current_value = filtered_data['Children with diarrhea'].iloc[-1]\n",
    "        peak_value = filtered_data['Children with diarrhea'].max()\n",
    "        improvement = ((filtered_data['Children with diarrhea'].iloc[-1] - \n",
    "                       filtered_data['Children with diarrhea'].iloc[0]) / \n",
    "                      filtered_data['Children with diarrhea'].iloc[0] * 100)\n",
    "        \n",
    "        kpis = [\n",
    "            html.Div([\n",
    "                html.H4(\"Current Prevalence\"),\n",
    "                html.P(f\"{current_value:.1f}%\", style={'fontSize': '24px', 'color': '#2c3e50'})\n",
    "            ], style={'textAlign': 'center'}),\n",
    "            html.Div([\n",
    "                html.H4(\"Peak Prevalence\"),\n",
    "                html.P(f\"{peak_value:.1f}%\", style={'fontSize': '24px', 'color': '#e74c3c'})\n",
    "            ], style={'textAlign': 'center'}),\n",
    "            html.Div([\n",
    "                html.H4(\"% Change\"),\n",
    "                html.P(f\"{improvement:.1f}%\", \n",
    "                      style={'fontSize': '24px', 'color': 'green' if improvement < 0 else '#e74c3c'})\n",
    "            ], style={'textAlign': 'center'})\n",
    "        ]\n",
    "    \n",
    "    # 8.3 Decomposition Chart\n",
    "    decomposition_fig = go.Figure()\n",
    "    \n",
    "    if decomposition is not None:\n",
    "        decomposition_fig.add_trace(go.Scatter(\n",
    "            x=decomposition.observed.index,\n",
    "            y=decomposition.observed,\n",
    "            name='Observed',\n",
    "            line=dict(color='blue')\n",
    "        ))\n",
    "        decomposition_fig.add_trace(go.Scatter(\n",
    "            x=decomposition.trend.index,\n",
    "            y=decomposition.trend,\n",
    "            name='Trend',\n",
    "            line=dict(color='green')\n",
    "        ))\n",
    "        decomposition_fig.add_trace(go.Scatter(\n",
    "            x=decomposition.seasonal.index,\n",
    "            y=decomposition.seasonal,\n",
    "            name='Seasonal',\n",
    "            line=dict(color='red')\n",
    "        ))\n",
    "        decomposition_fig.add_trace(go.Scatter(\n",
    "            x=decomposition.resid.index,\n",
    "            y=decomposition.resid,\n",
    "            name='Residual',\n",
    "            line=dict(color='purple')\n",
    "        ))\n",
    "    else:\n",
    "        decomposition_fig.add_annotation(\n",
    "            text=\"Decomposition not available\",\n",
    "            xref=\"paper\", yref=\"paper\",\n",
    "            x=0.5, y=0.5,\n",
    "            showarrow=False\n",
    "        )\n",
    "    \n",
    "    decomposition_fig.update_layout(\n",
    "        title='Time Series Decomposition',\n",
    "        xaxis_title='Year',\n",
    "        yaxis_title='Value',\n",
    "        hovermode='x unified',\n",
    "        height=400\n",
    "    )\n",
    "    \n",
    "    # 8.4 Correlation Matrix\n",
    "    corr_fig = px.imshow(\n",
    "        corr_matrix,\n",
    "        text_auto=True,\n",
    "        color_continuous_scale='RdBu',\n",
    "        zmin=-1,\n",
    "        zmax=1,\n",
    "        title='Correlation Between Health and Economic Indicators'\n",
    "    ).update_layout(height=400)\n",
    "    \n",
    "    # 8.5 Economic Indicator Chart\n",
    "    econ_fig = go.Figure()\n",
    "    for indicator in economic_pivot.columns:\n",
    "        if indicator in filtered_data.columns:\n",
    "            econ_fig.add_trace(go.Scatter(\n",
    "                x=filtered_data.index,\n",
    "                y=filtered_data[indicator],\n",
    "                name=indicator,\n",
    "                visible=(indicator == economic_indicator) if economic_indicator else True,\n",
    "                line=dict(width=2)\n",
    "            ))\n",
    "    econ_fig.update_layout(\n",
    "        title='Economic Indicators Over Time',\n",
    "        xaxis_title='Year',\n",
    "        yaxis_title='Value',\n",
    "        height=400\n",
    "    )\n",
    "    \n",
    "    # 8.6 Model Comparison Chart\n",
    "    model_comp_fig = go.Figure()\n",
    "    \n",
    "    model_comp_fig.add_trace(go.Scatter(\n",
    "        x=filtered_data.index,\n",
    "        y=filtered_data['Children with diarrhea'],\n",
    "        name='Actual',\n",
    "        line=dict(color='blue')\n",
    "    ))\n",
    "    \n",
    "    if not prophet_forecast.empty:\n",
    "        model_comp_fig.add_trace(go.Scatter(\n",
    "            x=prophet_forecast['ds'],\n",
    "            y=prophet_forecast['yhat'],\n",
    "            name='Prophet',\n",
    "            line=dict(color='green', dash='dot')\n",
    "        ))\n",
    "    \n",
    "    if not arima_values.empty:\n",
    "        model_comp_fig.add_trace(go.Scatter(\n",
    "            x=arima_values.index.to_timestamp(),\n",
    "            y=arima_values,\n",
    "            name='ARIMA',\n",
    "            line=dict(color='red', dash='dash')\n",
    "        ))\n",
    "    \n",
    "    model_comp_fig.update_layout(\n",
    "        title='Model Comparison',\n",
    "        xaxis_title='Year',\n",
    "        yaxis_title='Prevalence (%)',\n",
    "        hovermode='x unified',\n",
    "        height=400\n",
    "    )\n",
    "    \n",
    "    # 8.7 Confidence Interval Chart\n",
    "    conf_fig = go.Figure()\n",
    "    \n",
    "    if forecast_model == 'prophet' and not prophet_forecast.empty:\n",
    "        conf_fig.add_trace(go.Scatter(\n",
    "            x=prophet_forecast['ds'],\n",
    "            y=prophet_forecast['yhat_upper'],\n",
    "            fill=None,\n",
    "            mode='lines',\n",
    "            line=dict(width=0),\n",
    "            showlegend=False\n",
    "        ))\n",
    "        conf_fig.add_trace(go.Scatter(\n",
    "            x=prophet_forecast['ds'],\n",
    "            y=prophet_forecast['yhat_lower'],\n",
    "            fill='tonexty',\n",
    "            mode='lines',\n",
    "            line=dict(width=0),\n",
    "            name='80% Confidence'\n",
    "        ))\n",
    "        conf_fig.add_trace(go.Scatter(\n",
    "            x=prophet_forecast['ds'],\n",
    "            y=prophet_forecast['yhat'],\n",
    "            name='Prophet Forecast',\n",
    "            line=dict(color='green')\n",
    "        ))\n",
    "    elif not arima_values.empty and not arima_conf.empty:\n",
    "        conf_fig.add_trace(go.Scatter(\n",
    "            x=arima_conf.index.to_timestamp(),\n",
    "            y=arima_conf.iloc[:, 1],\n",
    "            fill=None,\n",
    "            mode='lines',\n",
    "            line=dict(width=0),\n",
    "            showlegend=False\n",
    "        ))\n",
    "        conf_fig.add_trace(go.Scatter(\n",
    "            x=arima_conf.index.to_timestamp(),\n",
    "            y=arima_conf.iloc[:, 0],\n",
    "            fill='tonexty',\n",
    "            mode='lines',\n",
    "            line=dict(width=0),\n",
    "            name='80% Confidence'\n",
    "        ))\n",
    "        conf_fig.add_trace(go.Scatter(\n",
    "            x=arima_values.index.to_timestamp(),\n",
    "            y=arima_values,\n",
    "            name='ARIMA Forecast',\n",
    "            line=dict(color='red')\n",
    "        ))\n",
    "    else:\n",
    "        conf_fig.add_annotation(\n",
    "            text=\"No forecast data available\",\n",
    "            xref=\"paper\", yref=\"paper\",\n",
    "            x=0.5, y=0.5,\n",
    "            showarrow=False\n",
    "        )\n",
    "    \n",
    "    conf_fig.update_layout(\n",
    "        title=f'{forecast_model.capitalize()} Forecast with Confidence Intervals',\n",
    "        xaxis_title='Year',\n",
    "        yaxis_title='Prevalence (%)',\n",
    "        height=400\n",
    "    )\n",
    "    \n",
    "    # 8.8 ACF/PACF Chart\n",
    "    acf_pacf_fig = go.Figure()\n",
    "    \n",
    "    try:\n",
    "        if acf_pacf == 'acf':\n",
    "            fig, ax = plt.subplots(figsize=(10, 4))\n",
    "            plot_acf(diarrhea_series, ax=ax, lags=10)\n",
    "            plt.close(fig)\n",
    "            acf_pacf_fig = go.Figure(data=[\n",
    "                go.Scatter(\n",
    "                    x=np.arange(len(ax.lines[1].get_xdata())),\n",
    "                    y=ax.lines[1].get_ydata(),\n",
    "                    mode='lines+markers',\n",
    "                    name='ACF'\n",
    "                )\n",
    "            ])\n",
    "            acf_pacf_fig.add_shape(\n",
    "                type='line',\n",
    "                x0=0,\n",
    "                x1=10,\n",
    "                y0=0,\n",
    "                y1=0,\n",
    "                line=dict(color='gray', dash='dash')\n",
    "            )\n",
    "            acf_pacf_fig.update_layout(\n",
    "                title='Autocorrelation Function (ACF)',\n",
    "                xaxis_title='Lag',\n",
    "                yaxis_title='Correlation',\n",
    "                height=400\n",
    "            )\n",
    "        else:\n",
    "            fig, ax = plt.subplots(figsize=(10, 4))\n",
    "            plot_pacf(diarrhea_series, ax=ax, lags=10)\n",
    "            plt.close(fig)\n",
    "            acf_pacf_fig = go.Figure(data=[\n",
    "                go.Scatter(\n",
    "                    x=np.arange(len(ax.lines[1].get_xdata())),\n",
    "                    y=ax.lines[1].get_ydata(),\n",
    "                    mode='lines+markers',\n",
    "                    name='PACF'\n",
    "                )\n",
    "            ])\n",
    "            acf_pacf_fig.add_shape(\n",
    "                type='line',\n",
    "                x0=0,\n",
    "                x1=10,\n",
    "                y0=0,\n",
    "                y1=0,\n",
    "                line=dict(color='gray', dash='dash')\n",
    "            )\n",
    "            acf_pacf_fig.update_layout(\n",
    "                title='Partial Autocorrelation Function (PACF)',\n",
    "                xaxis_title='Lag',\n",
    "                yaxis_title='Correlation',\n",
    "                height=400\n",
    "            )\n",
    "    except Exception as e:\n",
    "        print(f\"ACF/PACF plot failed: {str(e)}\")\n",
    "        acf_pacf_fig.add_annotation(\n",
    "            text=\"ACF/PACF not available\",\n",
    "            xref=\"paper\", yref=\"paper\",\n",
    "            x=0.5, y=0.5,\n",
    "            showarrow=False\n",
    "        )\n",
    "    \n",
    "    # 8.9 Model Evaluation Chart\n",
    "    model_eval_fig = go.Figure()\n",
    "    \n",
    "    try:\n",
    "        if not prophet_forecast.empty:\n",
    "            prophet_test = prophet_forecast[prophet_forecast['ds'].isin(diarrhea_series.index)]['yhat']\n",
    "            prophet_scores = calculate_kpis(diarrhea_series, prophet_test)\n",
    "        else:\n",
    "            prophet_scores = {'MAE': np.nan, 'RMSE': np.nan, 'MAPE': np.nan}\n",
    "        \n",
    "        if not arima_values.empty:\n",
    "            arima_test = arima_values[arima_values.index.isin(diarrhea_series.index)]\n",
    "            arima_scores = calculate_kpis(diarrhea_series, arima_test)\n",
    "        else:\n",
    "            arima_scores = {'MAE': np.nan, 'RMSE': np.nan, 'MAPE': np.nan}\n",
    "        \n",
    "        metrics = ['MAE', 'RMSE', 'MAPE']\n",
    "        model_eval_fig.add_trace(go.Bar(\n",
    "            x=metrics,\n",
    "            y=[prophet_scores[m] for m in metrics],\n",
    "            name='Prophet'\n",
    "        ))\n",
    "        model_eval_fig.add_trace(go.Bar(\n",
    "            x=metrics,\n",
    "            y=[arima_scores[m] for m in metrics],\n",
    "            name='ARIMA'\n",
    "        ))\n",
    "        \n",
    "        model_eval_fig.update_layout(\n",
    "            title='Model Evaluation Metrics (Lower is Better)',\n",
    "            yaxis_title='Score',\n",
    "            barmode='group',\n",
    "            height=400\n",
    "        )\n",
    "    except Exception as e:\n",
    "        print(f\"Model evaluation failed: {str(e)}\")\n",
    "        model_eval_fig.add_annotation(\n",
    "            text=\"Model evaluation not available\",\n",
    "            xref=\"paper\", yref=\"paper\",\n",
    "            x=0.5, y=0.5,\n",
    "            showarrow=False\n",
    "        )\n",
    "    \n",
    "    # 8.10 Economic-Health Scatter Plot\n",
    "    scatter_fig = go.Figure()\n",
    "    \n",
    "    try:\n",
    "        if scatter_x in filtered_data.columns and scatter_y in filtered_data.columns:\n",
    "            scatter_fig = px.scatter(\n",
    "                filtered_data,\n",
    "                x=scatter_x,\n",
    "                y=scatter_y,\n",
    "                trendline='ols',\n",
    "                title=f'{scatter_y} vs {scatter_x}'\n",
    "            ).update_layout(height=400)\n",
    "        else:\n",
    "            scatter_fig.add_annotation(\n",
    "                text=\"Selected columns not available\",\n",
    "                xref=\"paper\", yref=\"paper\",\n",
    "                x=0.5, y=0.5,\n",
    "                showarrow=False\n",
    "            )\n",
    "    except Exception as e:\n",
    "        print(f\"Scatter plot failed: {str(e)}\")\n",
    "        scatter_fig.add_annotation(\n",
    "            text=\"Scatter plot not available\",\n",
    "            xref=\"paper\", yref=\"paper\",\n",
    "            x=0.5, y=0.5,\n",
    "            showarrow=False\n",
    "        )\n",
    "    \n",
    "    return (\n",
    "        main_fig,\n",
    "        kpis,\n",
    "        decomposition_fig,\n",
    "        corr_fig,\n",
    "        econ_fig,\n",
    "        model_comp_fig,\n",
    "        conf_fig,\n",
    "        acf_pacf_fig,\n",
    "        model_eval_fig,\n",
    "        scatter_fig\n",
    "    )"
   ]
  },
  {
   "cell_type": "markdown",
   "metadata": {},
   "source": [
    "SECTION 9: RUN DASHBOARD"
   ]
  },
  {
   "cell_type": "code",
   "execution_count": null,
   "metadata": {},
   "outputs": [],
   "source": [
    "# Start the Dash server\n",
    "if __name__ == '__main__':\n",
    "    print(\"\\nStarting dashboard server...\")\n",
    "    app.run(debug=True, port=8050)"
   ]
  }
 ],
 "metadata": {
  "kernelspec": {
   "display_name": "Python 3",
   "language": "python",
   "name": "python3"
  },
  "language_info": {
   "codemirror_mode": {
    "name": "ipython",
    "version": 3
   },
   "file_extension": ".py",
   "mimetype": "text/x-python",
   "name": "python",
   "nbconvert_exporter": "python",
   "pygments_lexer": "ipython3",
   "version": "3.13.1"
  }
 },
 "nbformat": 4,
 "nbformat_minor": 2
}
